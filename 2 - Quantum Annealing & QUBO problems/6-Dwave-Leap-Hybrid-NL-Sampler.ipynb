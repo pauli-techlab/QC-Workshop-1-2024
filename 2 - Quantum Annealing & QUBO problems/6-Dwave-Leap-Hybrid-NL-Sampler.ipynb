{
 "cells": [
  {
   "cell_type": "code",
   "execution_count": 2,
   "metadata": {},
   "outputs": [],
   "source": [
    "demand = [0, 34, 12, 65, 10, 43, 27, 55, 61, 22]\n",
    "sites = [(15, 38), (23, -19), (44, 62), (3, 12), (-56, -21), (-53, 2),\n",
    "         (33, 63), (14, -33), (42, 41), (13, -62)]"
   ]
  },
  {
   "cell_type": "code",
   "execution_count": 13,
   "metadata": {},
   "outputs": [
    {
     "data": {
      "text/plain": [
       "10"
      ]
     },
     "execution_count": 13,
     "metadata": {},
     "output_type": "execute_result"
    }
   ],
   "source": [
    "len(demand)"
   ]
  },
  {
   "cell_type": "code",
   "execution_count": 14,
   "metadata": {},
   "outputs": [
    {
     "data": {
      "text/plain": [
       "10"
      ]
     },
     "execution_count": 14,
     "metadata": {},
     "output_type": "execute_result"
    }
   ],
   "source": [
    "len(sites)"
   ]
  },
  {
   "cell_type": "code",
   "execution_count": 4,
   "metadata": {},
   "outputs": [],
   "source": [
    "from dwave.optimization.generators import capacitated_vehicle_routing\n",
    "model = capacitated_vehicle_routing(\n",
    "    demand=demand,\n",
    "    number_of_vehicles=2,\n",
    "    vehicle_capacity=200,\n",
    "    locations_x=[x for x,y in sites],\n",
    "    locations_y=[y for x,y in sites])"
   ]
  },
  {
   "cell_type": "code",
   "execution_count": 5,
   "metadata": {},
   "outputs": [],
   "source": [
    "from dwave.system import LeapHybridNLSampler\n",
    "sampler = LeapHybridNLSampler()                  "
   ]
  },
  {
   "cell_type": "code",
   "execution_count": 6,
   "metadata": {},
   "outputs": [
    {
     "name": "stdout",
     "output_type": "stream",
     "text": [
      "5\n"
     ]
    }
   ],
   "source": [
    "print(sampler.estimated_min_time_limit(model))"
   ]
  },
  {
   "cell_type": "code",
   "execution_count": 7,
   "metadata": {},
   "outputs": [],
   "source": [
    "results = sampler.sample(\n",
    "    model,\n",
    "    time_limit=10)          "
   ]
  },
  {
   "cell_type": "code",
   "execution_count": 8,
   "metadata": {},
   "outputs": [
    {
     "name": "stdout",
     "output_type": "stream",
     "text": [
      "10000000\n"
     ]
    }
   ],
   "source": [
    "print(results.result().timing['charge_time'])       "
   ]
  },
  {
   "cell_type": "code",
   "execution_count": 12,
   "metadata": {},
   "outputs": [
    {
     "data": {
      "text/plain": [
       "SampleResult(model=<dwave.optimization.model.Model object at 0x10733db10>, timing={'qpu_access_time': 762352, 'warnings': [], 'charge_time': 10000000, 'run_time': 10027969})"
      ]
     },
     "execution_count": 12,
     "metadata": {},
     "output_type": "execute_result"
    }
   ],
   "source": [
    "results.result()"
   ]
  },
  {
   "cell_type": "code",
   "execution_count": 9,
   "metadata": {},
   "outputs": [
    {
     "name": "stdout",
     "output_type": "stream",
     "text": [
      "Objective value 423 for \n",
      "\t Route 1: [4. 3. 8. 6. 0.] \t Route 2: [2. 7. 1. 5.] \n",
      "\t Feasible: True\n",
      "Objective value 423 for \n",
      "\t Route 1: [0. 6. 8. 3. 4.] \t Route 2: [5. 1. 7. 2.] \n",
      "\t Feasible: True\n",
      "Objective value 423 for \n",
      "\t Route 1: [0. 6. 8. 3. 4.] \t Route 2: [2. 7. 1. 5.] \n",
      "\t Feasible: True\n"
     ]
    }
   ],
   "source": [
    "num_samples = model.states.size()\n",
    "route, = model.iter_decisions()                     \n",
    "route1, route2 = route.iter_successors()            \n",
    "for i in range(min(3, num_samples)):\n",
    "    print(f\"Objective value {int(model.objective.state(i))} for \\n\" \\\n",
    "    f\"\\t Route 1: {route1.state(i)} \\t Route 2: {route2.state(i)} \\n\" \\\n",
    "    f\"\\t Feasible: {all(sym.state(i) for sym in model.iter_constraints())}\")   "
   ]
  },
  {
   "cell_type": "code",
   "execution_count": null,
   "metadata": {},
   "outputs": [],
   "source": [
    "model.states.resize(1)\n",
    "route.set_state(0, [route1.state(0), route2.state(0)])   \n",
    "results = sampler.sample(model)     "
   ]
  },
  {
   "cell_type": "code",
   "execution_count": 1,
   "metadata": {},
   "outputs": [],
   "source": [
    "import shutil\n",
    "with open(\"model_states\", 'wb') as f:                    \n",
    "    shutil.copyfileobj(model.states.to_file(), f)"
   ]
  },
  {
   "cell_type": "code",
   "execution_count": null,
   "metadata": {},
   "outputs": [],
   "source": []
  }
 ],
 "metadata": {
  "kernelspec": {
   "display_name": "env",
   "language": "python",
   "name": "python3"
  },
  "language_info": {
   "codemirror_mode": {
    "name": "ipython",
    "version": 3
   },
   "file_extension": ".py",
   "mimetype": "text/x-python",
   "name": "python",
   "nbconvert_exporter": "python",
   "pygments_lexer": "ipython3",
   "version": "3.11.8"
  }
 },
 "nbformat": 4,
 "nbformat_minor": 2
}
