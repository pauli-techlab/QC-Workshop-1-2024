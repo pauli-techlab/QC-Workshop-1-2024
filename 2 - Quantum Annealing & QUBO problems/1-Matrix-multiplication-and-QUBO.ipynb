{
 "cells": [
  {
   "cell_type": "markdown",
   "metadata": {},
   "source": [
    "### QUBO Matrix Multiplication Tutorial\n",
    "\n",
    "# Quadratic Unconstrained Binary Optimization (QUBO)\n",
    "\n",
    "This notebook explains matrix multiplication and its relevance to QUBO problems. We also provide Python code to perform matrix multiplication using numpy.\n"
   ]
  },
  {
   "cell_type": "markdown",
   "metadata": {},
   "source": [
    "# Matrix Multiplication Basics\n",
    "\n",
    "Matrix multiplication is a fundamental operation in linear algebra. If $A$ is a $m \\times n$ matrix and $B$ is a $n \\times p$ matrix, their product $C = A \\cdot B$ is a $m \\times p$ matrix.\n",
    "\n",
    "The element $c_{ij}$ in $C$ is calculated as:\n",
    "\n",
    "$$\n",
    "c_{ij} = \\sum_{k=1}^{n} a_{ik} \\cdot b_{kj}\n",
    "$$"
   ]
  },
  {
   "cell_type": "markdown",
   "metadata": {},
   "source": []
  },
  {
   "cell_type": "markdown",
   "metadata": {},
   "source": [
    "### Example Calculation\n",
    "\n",
    "Let us consider the following matrices $A$ and $B$:\n",
    "\n",
    "$$\n",
    "A = \\begin{bmatrix} 1 & 2 \\\\ 3 & 4 \\end{bmatrix}, \\quad B = \\begin{bmatrix} 5 & 6 \\\\ 7 & 8 \\end{bmatrix}\n",
    "$$\n",
    "\n",
    "The product $C = A \\cdot B$ will be:\n",
    "\n",
    "$$\n",
    "C = \\begin{bmatrix} c_{11} & c_{12} \\\\ c_{21} & c_{22} \\end{bmatrix}\n",
    "$$\n",
    "\n",
    "Using the formula $c_{ij} = \\sum_{k=1}^{n} a_{ik} \\cdot b_{kj}$:\n",
    "\n",
    "1. Calculate $c_{11}$:\n",
    "$$\n",
    "c_{11} = (1 \\cdot 5) + (2 \\cdot 7) = 5 + 14 = 19\n",
    "$$\n",
    "\n",
    "2. Calculate $c_{12}$:\n",
    "$$\n",
    "c_{12} = (1 \\cdot 6) + (2 \\cdot 8) = 6 + 16 = 22\n",
    "$$\n",
    "\n",
    "3. Calculate $c_{21}$:\n",
    "$$\n",
    "c_{21} = (3 \\cdot 5) + (4 \\cdot 7) = 15 + 28 = 43\n",
    "$$\n",
    "\n",
    "4. Calculate $c_{22}$:\n",
    "$$\n",
    "c_{22} = (3 \\cdot 6) + (4 \\cdot 8) = 18 + 32 = 50\n",
    "$$\n",
    "\n",
    "Thus, the resulting matrix $C$ is:\n",
    "\n",
    "$$\n",
    "C = \\begin{bmatrix} 19 & 22 \\\\ 43 & 50 \\end{bmatrix}\n",
    "$$"
   ]
  },
  {
   "cell_type": "markdown",
   "metadata": {},
   "source": [
    "Let us consider case where the matrix elements represent some equation variables:\n",
    "\n",
    "$$\n",
    "A = \\begin{bmatrix} a & b \\\\ c & a \\end{bmatrix}, \\quad B = \\begin{bmatrix} b & c \\\\ a & b \\end{bmatrix}\n",
    "$$\n",
    "\n",
    "The product $C = A \\cdot B$ will be:\n",
    "\n",
    "$$\n",
    "C = \\begin{bmatrix} c_{11} & c_{12} \\\\ c_{21} & c_{22} \\end{bmatrix}\n",
    "$$\n",
    "\n",
    "Using the formula $c_{ij} = \\sum_{k=1}^{n} a_{ik} \\cdot b_{kj}$:\n",
    "\n",
    "1. Calculate $c_{11}$:\n",
    "$$\n",
    "c_{11} = (a \\cdot b) + (b \\cdot a) = ab + ba = 2ab\n",
    "$$\n",
    "\n",
    "2. Calculate $c_{12}$:\n",
    "$$\n",
    "c_{12} = (a \\cdot c) + (b \\cdot b) = ac + b^2\n",
    "$$\n",
    "\n",
    "3. Calculate $c_{21}$:\n",
    "$$\n",
    "c_{21} = (c \\cdot b) + (a \\cdot a) = cb + a^2\n",
    "$$\n",
    "\n",
    "4. Calculate $c_{22}$:\n",
    "$$\n",
    "c_{22} = (c \\cdot c) + (a \\cdot b) = c^2 + ab\n",
    "$$\n",
    "\n",
    "Thus, the resulting matrix $C$ is:\n",
    "\n",
    "$$\n",
    "C = \\begin{bmatrix} 2ab & ac + b^2 \\\\ cb + a^2 & c^2 + ab \\end{bmatrix}\n",
    "$$"
   ]
  },
  {
   "cell_type": "markdown",
   "metadata": {},
   "source": [
    "# QUBO Problems and Matrix Multiplication\n",
    "\n",
    "In QUBO problems, we minimize a quadratic function of binary variables:\n",
    "\n",
    "$$\n",
    "f(x) = x^T Q x\n",
    "$$\n",
    "\n",
    "- $Q$ is the QUBO matrix (square symmetric matrix).\n",
    "- $x$ is a binary vector ($x \\in \\{0, 1\\}^n$).\n",
    "\n",
    "Matrix multiplication calculates the objective function $f(x)$. \n",
    "\n",
    "**Steps:**\n",
    "1. $x^T$ is the transpose of $x$.\n",
    "2. $Q$ defines the coefficients.\n",
    "3. $f(x) = x^T Q x$."
   ]
  },
  {
   "cell_type": "markdown",
   "metadata": {},
   "source": [
    "# Python Implementation\n",
    "\n",
    "Below is the Python implementation using `numpy` to perform matrix multiplication and compute the QUBO objective value."
   ]
  },
  {
   "cell_type": "code",
   "execution_count": 1,
   "metadata": {},
   "outputs": [
    {
     "name": "stdout",
     "output_type": "stream",
     "text": [
      "QUBO Matrix (Q):\n",
      "[[ 1 -1  2]\n",
      " [-1  3 -2]\n",
      " [ 2 -2  1]]\n",
      "\n",
      "Binary Vector (x):\n",
      "[1 0 1]\n",
      "\n",
      "Objective Function Value (f(x)):\n",
      "6\n"
     ]
    }
   ],
   "source": [
    "import numpy as np\n",
    "\n",
    "# Define a QUBO matrix (symmetric)\n",
    "Q = np.array([\n",
    "    [1, -1, 2],\n",
    "    [-1, 3, -2],\n",
    "    [2, -2, 1]\n",
    "])\n",
    "\n",
    "# Define a binary vector\n",
    "x = np.array([1, 0, 1])  # Example binary configuration\n",
    "\n",
    "# Perform matrix multiplication: f(x) = x^T Q x\n",
    "def qubo_objective(Q, x):\n",
    "    return np.dot(x, np.dot(Q, x))\n",
    "\n",
    "# Calculate the objective function value\n",
    "objective_value = qubo_objective(Q, x)\n",
    "\n",
    "print(\"QUBO Matrix (Q):\")\n",
    "print(Q)\n",
    "print(\"\\nBinary Vector (x):\")\n",
    "print(x)\n",
    "print(\"\\nObjective Function Value (f(x)):\")\n",
    "print(objective_value)"
   ]
  },
  {
   "cell_type": "code",
   "execution_count": null,
   "metadata": {},
   "outputs": [],
   "source": []
  }
 ],
 "metadata": {
  "kernelspec": {
   "display_name": "Python 3",
   "language": "python",
   "name": "python3"
  },
  "language_info": {
   "codemirror_mode": {
    "name": "ipython",
    "version": 3
   },
   "file_extension": ".py",
   "mimetype": "text/x-python",
   "name": "python",
   "nbconvert_exporter": "python",
   "pygments_lexer": "ipython3",
   "version": "3.12.2"
  }
 },
 "nbformat": 4,
 "nbformat_minor": 2
}
