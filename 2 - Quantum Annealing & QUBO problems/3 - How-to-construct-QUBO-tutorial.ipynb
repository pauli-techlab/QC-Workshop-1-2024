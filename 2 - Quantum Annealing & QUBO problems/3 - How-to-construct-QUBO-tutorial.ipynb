{
 "cells": [
  {
   "cell_type": "markdown",
   "metadata": {},
   "source": [
    "### Tutorial for constructing the QUBO matrix found in Quantum Annealing Feature Selection paper [1]\n",
    "\n",
    "[1] http://1qbit.com/files/white-papers/1QBit-White-Paper-%E2%80%93-Optimal-Feature-Selection-in-Credit-Scoring-and-Classification-Using-a-Quantum-Annealer_-_2017.04.13.pdf"
   ]
  },
  {
   "cell_type": "code",
   "execution_count": 27,
   "metadata": {
    "metadata": {}
   },
   "outputs": [],
   "source": [
    "from IPython.display import display, Math, Latex\n",
    "import numpy as np\n",
    "from numpyarray_to_latex.jupyter import to_jup\n",
    "from numpyarray_to_latex import to_ltx\n",
    "\n",
    "\n",
    "def remove_diagonal(M: np.ndarray) -> np.ndarray:\n",
    "    M = M[~np.eye(M.shape[0],dtype=bool)].reshape(M.shape[0],-1)\n",
    "    return M"
   ]
  },
  {
   "cell_type": "markdown",
   "metadata": {},
   "source": [
    "***Regarding  which correlation measure to choose from:***\n",
    "\n",
    "It was noted, however, that methods with a ‘‘smooth’’ distribution of coefficients\n",
    "(Spearman, Pearson, etc.) worked better with the quadratic objective function than correlation methods with sharper\n",
    "jumps, such as ‘‘mutual information’’ scores (scikit op. cit., Rosenberg 2007). In the end, the Spearman method was\n",
    "chosen as it is simple and easy to reproduce. However, this is an area where more research is needed.\n",
    "\n",
    "\n"
   ]
  },
  {
   "cell_type": "code",
   "execution_count": 28,
   "metadata": {
    "metadata": {}
   },
   "outputs": [],
   "source": [
    "rng = np.random.default_rng(seed=42)\n",
    "n_features = 5\n",
    "n_samples = 10\n",
    "\n",
    "X = np.ones(n_features) # Feature encoding binary vector \n",
    "V = rng.integers(0,2, size=(n_samples,1)) # Example model target outputs \n",
    "U = rng.random(size=(n_samples,n_features)) # Example model variables (1 feature per column --> (sample x feature) dimensional matrix)\n",
    "\n",
    "\n",
    "\n",
    "\n",
    "p_Vj = np.corrcoef(U, V, rowvar=False)[1:,:1] # Correlation with model target outputs\n",
    "p_ij = np.corrcoef(U,rowvar=False)            # Correlation between the features\n",
    "\n",
    "p_Vj = np.abs(p_Vj)\n",
    "p_ij = np.abs(p_ij)\n",
    "\n",
    "\n",
    "V_ltx= to_ltx(V)\n",
    "p_Vj_ltx = to_ltx(p_Vj)\n",
    "p_ij_ltx= to_ltx(p_ij)"
   ]
  },
  {
   "cell_type": "code",
   "execution_count": 29,
   "metadata": {
    "metadata": {}
   },
   "outputs": [
    {
     "data": {
      "text/latex": [
       " $V =\\left(\n",
       "\\begin{array}{}\n",
       "  0.0000\\\\\n",
       "  1.0000\\\\\n",
       "  1.0000\\\\\n",
       "  0.0000\\\\\n",
       "  0.0000\\\\\n",
       "  1.0000\\\\\n",
       "  0.0000\\\\\n",
       "  1.0000\\\\\n",
       "  0.0000\\\\\n",
       "  0.0000\n",
       "\\end{array}\n",
       "\\right)$ <br/> <br/> \n",
       "            $p_{Vj} =\\left(\n",
       "\\begin{array}{}\n",
       "  0.3930\\\\\n",
       "  0.3453\\\\\n",
       "  0.0357\\\\\n",
       "  0.5023\\\\\n",
       "  0.1291\n",
       "\\end{array}\n",
       "\\right)$ <br/> <br/>\n",
       "            $p_{ij} =\\left(\n",
       "\\begin{array}{}\n",
       "  1.0000 &  0.3930 &  0.3453 &  0.0357 &  0.5023\\\\\n",
       "  0.3930 &  1.0000 &  0.0712 &  0.1279 &  0.2203\\\\\n",
       "  0.3453 &  0.0712 &  1.0000 &  0.1616 &  0.2764\\\\\n",
       "  0.0357 &  0.1279 &  0.1616 &  1.0000 &  0.0969\\\\\n",
       "  0.5023 &  0.2203 &  0.2764 &  0.0969 &  1.0000\n",
       "\\end{array}\n",
       "\\right)$ <br/> <br/>\n",
       "\n",
       "        "
      ],
      "text/plain": [
       "<IPython.core.display.Latex object>"
      ]
     },
     "execution_count": 29,
     "metadata": {},
     "output_type": "execute_result"
    }
   ],
   "source": [
    "Latex(rf\"\"\" $V ={V_ltx}$ <br/> <br/> \n",
    "            $p_{{Vj}} ={p_Vj_ltx}$ <br/> <br/>\n",
    "            $p_{{ij}} ={p_ij_ltx}$ <br/> <br/>\n",
    "\n",
    "        \"\"\")\n",
    "\n"
   ]
  },
  {
   "cell_type": "code",
   "execution_count": 30,
   "metadata": {
    "metadata": {}
   },
   "outputs": [
    {
     "data": {
      "text/latex": [
       "$p_{Vj} =\\left(\n",
       "\\begin{array}{}\n",
       "  0.3930\\\\\n",
       "  0.3453\\\\\n",
       "  0.0357\\\\\n",
       "  0.5023\\\\\n",
       "  0.1291\n",
       "\\end{array}\n",
       "\\right)$ <br/> <br/>"
      ],
      "text/plain": [
       "<IPython.core.display.Latex object>"
      ]
     },
     "execution_count": 30,
     "metadata": {},
     "output_type": "execute_result"
    }
   ],
   "source": [
    "p_Vj_terms_ltx = to_ltx(p_Vj)\n",
    "\n",
    "Latex(rf\"\"\"$p_{{Vj}} ={p_Vj_terms_ltx}$ <br/> <br/>\"\"\")"
   ]
  },
  {
   "cell_type": "code",
   "execution_count": 31,
   "metadata": {
    "metadata": {}
   },
   "outputs": [],
   "source": [
    "np.fill_diagonal(p_ij,0)\n"
   ]
  },
  {
   "cell_type": "code",
   "execution_count": 32,
   "metadata": {
    "metadata": {}
   },
   "outputs": [
    {
     "data": {
      "text/plain": [
       "array([[0.        , 0.3930328 , 0.34527953, 0.03567888, 0.50229227],\n",
       "       [0.3930328 , 0.        , 0.07119079, 0.12787199, 0.2202626 ],\n",
       "       [0.34527953, 0.07119079, 0.        , 0.16156206, 0.27642409],\n",
       "       [0.03567888, 0.12787199, 0.16156206, 0.        , 0.09691974],\n",
       "       [0.50229227, 0.2202626 , 0.27642409, 0.09691974, 0.        ]])"
      ]
     },
     "execution_count": 32,
     "metadata": {},
     "output_type": "execute_result"
    }
   ],
   "source": [
    "p_ij"
   ]
  },
  {
   "cell_type": "code",
   "execution_count": 33,
   "metadata": {
    "metadata": {}
   },
   "outputs": [
    {
     "name": "stderr",
     "output_type": "stream",
     "text": [
      "/var/folders/4l/b4lbhbs5785_4f4_ms4lf7xr0000gn/T/ipykernel_41074/4112784261.py:5: DeprecationWarning: Conversion of an array with ndim > 0 to a scalar is deprecated, and will error in future. Ensure you extract a single element from your array before performing this operation. (Deprecated NumPy 1.25.)\n",
      "  matrix_pVj[i,i] = p_Vj[i]\n"
     ]
    },
    {
     "data": {
      "text/latex": [
       "$p_{Vj} =\\left(\n",
       "\\begin{array}{}\n",
       "  0.3930 &  0.0000 &  0.0000 &  0.0000 &  0.0000\\\\\n",
       "  0.0000 &  0.3453 &  0.0000 &  0.0000 &  0.0000\\\\\n",
       "  0.0000 &  0.0000 &  0.0357 &  0.0000 &  0.0000\\\\\n",
       "  0.0000 &  0.0000 &  0.0000 &  0.5023 &  0.0000\\\\\n",
       "  0.0000 &  0.0000 &  0.0000 &  0.0000 &  0.1291\n",
       "\\end{array}\n",
       "\\right)$ <br/> <br/>"
      ],
      "text/plain": [
       "<IPython.core.display.Latex object>"
      ]
     },
     "execution_count": 33,
     "metadata": {},
     "output_type": "execute_result"
    }
   ],
   "source": [
    "s= n_features\n",
    "n, m = np.shape(p_Vj)\n",
    "matrix_pVj = np.zeros((s,s))\n",
    "for i in range(s):\n",
    "    matrix_pVj[i,i] = p_Vj[i]\n",
    "\n",
    "\n",
    "matrix_pVj_ltx = to_ltx(matrix_pVj)\n",
    "Latex(rf\"\"\"$p_{{Vj}} ={matrix_pVj_ltx}$ <br/> <br/>\"\"\")"
   ]
  },
  {
   "cell_type": "code",
   "execution_count": 34,
   "metadata": {
    "metadata": {}
   },
   "outputs": [
    {
     "data": {
      "text/latex": [
       "$p_{ij} + p_{Vj} =\\left(\n",
       "\\begin{array}{}\n",
       "  0.3930 &  0.3930 &  0.3453 &  0.0357 &  0.5023\\\\\n",
       "  0.3930 &  0.3453 &  0.0712 &  0.1279 &  0.2203\\\\\n",
       "  0.3453 &  0.0712 &  0.0357 &  0.1616 &  0.2764\\\\\n",
       "  0.0357 &  0.1279 &  0.1616 &  0.5023 &  0.0969\\\\\n",
       "  0.5023 &  0.2203 &  0.2764 &  0.0969 &  0.1291\n",
       "\\end{array}\n",
       "\\right)$ <br/> <br/>"
      ],
      "text/plain": [
       "<IPython.core.display.Latex object>"
      ]
     },
     "execution_count": 34,
     "metadata": {},
     "output_type": "execute_result"
    }
   ],
   "source": [
    "_check = p_ij + matrix_pVj\n",
    "\n",
    "\n",
    "_check = to_ltx(_check)\n",
    "Latex(rf\"\"\"$p_{{ij}} + p_{{Vj}} ={_check}$ <br/> <br/>\"\"\")"
   ]
  },
  {
   "cell_type": "code",
   "execution_count": 35,
   "metadata": {
    "metadata": {}
   },
   "outputs": [
    {
     "data": {
      "text/latex": [
       "$Q =\\left(\n",
       "\\begin{array}{}\n",
       " -0.1965 &  0.1965 &  0.1726 &  0.0178 &  0.2511\\\\\n",
       "  0.1965 & -0.1726 &  0.0356 &  0.0639 &  0.1101\\\\\n",
       "  0.1726 &  0.0356 & -0.0178 &  0.0808 &  0.1382\\\\\n",
       "  0.0178 &  0.0639 &  0.0808 & -0.2511 &  0.0485\\\\\n",
       "  0.2511 &  0.1101 &  0.1382 &  0.0485 & -0.0645\n",
       "\\end{array}\n",
       "\\right) $ "
      ],
      "text/plain": [
       "<IPython.core.display.Latex object>"
      ]
     },
     "execution_count": 35,
     "metadata": {},
     "output_type": "execute_result"
    }
   ],
   "source": [
    "# Weighting the independence vs prediction power of variables\n",
    "alpha = 0.5\n",
    "\n",
    "Q = (alpha * p_ij) - (1-alpha)*matrix_pVj\n",
    "\n",
    "Q_ltx = to_ltx(Q)\n",
    "Latex(rf\"\"\"$Q ={Q_ltx} $ \"\"\")"
   ]
  },
  {
   "cell_type": "code",
   "execution_count": 36,
   "metadata": {
    "metadata": {}
   },
   "outputs": [
    {
     "data": {
      "text/plain": [
       "array([[-0.1965164 ,  0.1965164 ,  0.17263977,  0.01783944,  0.25114613],\n",
       "       [ 0.1965164 , -0.17263977,  0.0355954 ,  0.063936  ,  0.1101313 ],\n",
       "       [ 0.17263977,  0.0355954 , -0.01783944,  0.08078103,  0.13821204],\n",
       "       [ 0.01783944,  0.063936  ,  0.08078103, -0.25114613,  0.04845987],\n",
       "       [ 0.25114613,  0.1101313 ,  0.13821204,  0.04845987, -0.06454308]])"
      ]
     },
     "execution_count": 36,
     "metadata": {},
     "output_type": "execute_result"
    }
   ],
   "source": [
    "Q"
   ]
  },
  {
   "cell_type": "code",
   "execution_count": 37,
   "metadata": {},
   "outputs": [],
   "source": [
    "np.savetxt(f'QUBO.csv', Q, delimiter=',')"
   ]
  },
  {
   "cell_type": "code",
   "execution_count": 38,
   "metadata": {
    "metadata": {}
   },
   "outputs": [],
   "source": [
    "# E is the equation which the optimization process minimizes, @ is an matrix multiplication operator defined in numpy\n",
    "E = -X.T @ Q @ X"
   ]
  },
  {
   "cell_type": "code",
   "execution_count": 39,
   "metadata": {
    "metadata": {}
   },
   "outputs": [
    {
     "data": {
      "text/plain": [
       "np.float64(-1.527829925732705)"
      ]
     },
     "execution_count": 39,
     "metadata": {},
     "output_type": "execute_result"
    }
   ],
   "source": [
    "E"
   ]
  },
  {
   "cell_type": "code",
   "execution_count": null,
   "metadata": {},
   "outputs": [],
   "source": []
  }
 ],
 "metadata": {
  "kernelspec": {
   "display_name": "env",
   "language": "python",
   "name": "python3"
  },
  "language_info": {
   "codemirror_mode": {
    "name": "ipython",
    "version": 3
   },
   "file_extension": ".py",
   "mimetype": "text/x-python",
   "name": "python",
   "nbconvert_exporter": "python",
   "pygments_lexer": "ipython3",
   "version": "3.11.8"
  },
  "orig_nbformat": 4
 },
 "nbformat": 4,
 "nbformat_minor": 2
}
