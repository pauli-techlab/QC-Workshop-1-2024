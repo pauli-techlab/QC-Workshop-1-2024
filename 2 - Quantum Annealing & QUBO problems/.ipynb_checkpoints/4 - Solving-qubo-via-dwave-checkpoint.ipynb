{
 "cells": [
  {
   "cell_type": "code",
   "execution_count": 1,
   "metadata": {},
   "outputs": [],
   "source": [
    "import dimod\n",
    "import numpy as np\n",
    "import matplotlib.pyplot as plt\n",
    "from scipy.special import gamma\n",
    "import math\n",
    "from collections import Counter\n",
    "import pandas as pd\n",
    "from itertools import chain\n",
    "import dwave.samplers\n",
    "from dwave.system import DWaveSampler\n",
    "from sklearn.preprocessing import normalize\n",
    "import seaborn as sns\n",
    "import json \n",
    "from pathlib import Path\n",
    "import timeit\n"
   ]
  },
  {
   "cell_type": "code",
   "execution_count": 2,
   "metadata": {},
   "outputs": [],
   "source": [
    "def set_qubo_weights(Q: np.ndarray, alpha) -> np.ndarray:\n",
    "    Q_copy = Q.copy()\n",
    "    matrix_pVj = np.diag(np.diag(Q_copy))\n",
    "    np.fill_diagonal(Q_copy, 0)\n",
    "    Q_w = (1-alpha) * Q_copy + (alpha)*matrix_pVj\n",
    "    Q_w = normalize(Q_w,axis=1, norm='l1')\n",
    "    return Q_w\n",
    "\n",
    "def upper_tri_qubo(Q):\n",
    "    Q_copy = Q.copy()\n",
    "    diagonal = np.diag(np.diag(Q_copy))\n",
    "    np.fill_diagonal(Q_copy, 0)\n",
    "    upper_tri = 2* np.triu(Q_copy)\n",
    "    q_matrix = diagonal + upper_tri\n",
    "    return q_matrix\n",
    "\n",
    "def remove_features(m: np.ndarray, index_to_column_mapping: list[str], remove_indx):\n",
    "    m_filtered = np.delete(m,remove_indx,0)\n",
    "    m_filtered = np.delete(m_filtered,remove_indx,1)\n",
    "    filtered_index_to_column_mapping = np.delete(index_to_column_mapping,remove_indx)\n",
    "    \n",
    "    return m_filtered, filtered_index_to_column_mapping"
   ]
  },
  {
   "cell_type": "code",
   "execution_count": 3,
   "metadata": {},
   "outputs": [],
   "source": [
    "def get_feature_indx(feature_name: str, feature_names: np.array):\n",
    "    return feature_names.tolist().index(feature_name)"
   ]
  },
  {
   "cell_type": "code",
   "execution_count": 4,
   "metadata": {},
   "outputs": [],
   "source": [
    "sns.set_theme()\n",
    "sns.set(font_scale=1.5)\n",
    "#plt.figure(figsize=(10, 5), dpi=200)\n",
    "plt.rcParams[\"figure.figsize\"] = (20,10)\n",
    "\n",
    "def plot_enumerate(results, save_dir, param, title=None):\n",
    "    energies = [datum.energy for datum in results.data(\n",
    "        ['energy'], sorted_by=None)]\n",
    "    \n",
    "    if results.vartype == 'Vartype.BINARY':\n",
    "        samples = [''.join(c for c in str(datum.sample.values()).strip(\n",
    "            ', ') if c.isdigit()) for datum in results.data(['sample'], sorted_by=None)]\n",
    "        plt.xlabel('bitstring for solution')\n",
    "    else:\n",
    "        samples = np.arange(len(energies))\n",
    "        plt.xlabel('solution')\n",
    "\n",
    "    plt.bar(samples,energies)\n",
    "    plt.xticks(rotation=90)\n",
    "    plt.ylabel('Energy')\n",
    "    plt.title(str(title))\n",
    "    plt.savefig(f'{save_dir}/alpha_{param}_enumerate.png')\n",
    "    plt.close()\n",
    "\n",
    "\n",
    "def plot_energies(results,save_dir, param, title=None):\n",
    "    energies = [datum.energy for datum in results.data(\n",
    "        ['energy'], sorted_by=None)]\n",
    "\n",
    "    occurrences = results.data_vectors['num_occurrences']\n",
    "    counts = Counter(energies)\n",
    "    total = sum(occurrences)\n",
    "    counts = {}\n",
    "    for index, energy in enumerate(energies):\n",
    "        if energy in counts.keys():\n",
    "            counts[energy] += occurrences[index]\n",
    "        else:\n",
    "            counts[energy] = occurrences[index]\n",
    "    for key in counts:\n",
    "        counts[key] /= total\n",
    "    df = pd.DataFrame.from_dict(counts, orient='index').sort_index()\n",
    "    df['indx_round'] = df.index\n",
    "    df = df.round(4)\n",
    "    df.index = df['indx_round']\n",
    "    df = df.drop(columns='indx_round')\n",
    "    df.plot(kind='bar', legend=None)\n",
    "    \n",
    "    plt.xlabel('Energy')\n",
    "    plt.ylabel('Probabilities')\n",
    "\n",
    "    plt.title(str(title))\n",
    "    plt.savefig(f'{save_dir}/alpha_{param}_energies.png')\n",
    "    plt.close()\n",
    "    print(\"minimum energy:\", min(energies))"
   ]
  },
  {
   "attachments": {},
   "cell_type": "markdown",
   "metadata": {},
   "source": [
    "### 1.1 Read QUBO matrix"
   ]
  },
  {
   "cell_type": "code",
   "execution_count": 5,
   "metadata": {},
   "outputs": [
    {
     "ename": "FileNotFoundError",
     "evalue": "../QUBO-matrix-construction/full-sample/QUBO.csv not found.",
     "output_type": "error",
     "traceback": [
      "\u001b[0;31m---------------------------------------------------------------------------\u001b[0m",
      "\u001b[0;31mFileNotFoundError\u001b[0m                         Traceback (most recent call last)",
      "Cell \u001b[0;32mIn[5], line 9\u001b[0m\n\u001b[1;32m      6\u001b[0m i_to_col \u001b[38;5;241m=\u001b[39m \u001b[38;5;124m'\u001b[39m\u001b[38;5;124mcolumn_order\u001b[39m\u001b[38;5;124m'\u001b[39m\n\u001b[1;32m      8\u001b[0m \u001b[38;5;66;03m# has to be float32, float16 does not work with\u001b[39;00m\n\u001b[0;32m----> 9\u001b[0m Q \u001b[38;5;241m=\u001b[39m \u001b[43mnp\u001b[49m\u001b[38;5;241;43m.\u001b[39;49m\u001b[43mloadtxt\u001b[49m\u001b[43m(\u001b[49m\u001b[38;5;124;43mf\u001b[39;49m\u001b[38;5;124;43m'\u001b[39;49m\u001b[38;5;124;43m../QUBO-matrix-construction/\u001b[39;49m\u001b[38;5;132;43;01m{\u001b[39;49;00m\u001b[43mfolder\u001b[49m\u001b[38;5;132;43;01m}\u001b[39;49;00m\u001b[38;5;124;43m/QUBO.csv\u001b[39;49m\u001b[38;5;124;43m'\u001b[39;49m\u001b[43m,\u001b[49m\u001b[43mdtype\u001b[49m\u001b[38;5;241;43m=\u001b[39;49m\u001b[43mnp\u001b[49m\u001b[38;5;241;43m.\u001b[39;49m\u001b[43mfloat32\u001b[49m\u001b[43m,\u001b[49m\u001b[43mdelimiter\u001b[49m\u001b[38;5;241;43m=\u001b[39;49m\u001b[38;5;124;43m'\u001b[39;49m\u001b[38;5;124;43m,\u001b[39;49m\u001b[38;5;124;43m'\u001b[39;49m\u001b[43m)\u001b[49m\n\u001b[1;32m     10\u001b[0m feature_names \u001b[38;5;241m=\u001b[39m np\u001b[38;5;241m.\u001b[39mloadtxt(\u001b[38;5;124mf\u001b[39m\u001b[38;5;124m'\u001b[39m\u001b[38;5;124m../QUBO-matrix-construction/\u001b[39m\u001b[38;5;132;01m{\u001b[39;00mfolder\u001b[38;5;132;01m}\u001b[39;00m\u001b[38;5;124m/\u001b[39m\u001b[38;5;132;01m{\u001b[39;00mi_to_col\u001b[38;5;132;01m}\u001b[39;00m\u001b[38;5;124m.csv\u001b[39m\u001b[38;5;124m'\u001b[39m, dtype\u001b[38;5;241m=\u001b[39m\u001b[38;5;28mstr\u001b[39m)\n",
      "File \u001b[0;32m~/Work/Education Workshops/QC-Workshop-1-2024/env/lib/python3.12/site-packages/numpy/lib/_npyio_impl.py:1395\u001b[0m, in \u001b[0;36mloadtxt\u001b[0;34m(fname, dtype, comments, delimiter, converters, skiprows, usecols, unpack, ndmin, encoding, max_rows, quotechar, like)\u001b[0m\n\u001b[1;32m   1392\u001b[0m \u001b[38;5;28;01mif\u001b[39;00m \u001b[38;5;28misinstance\u001b[39m(delimiter, \u001b[38;5;28mbytes\u001b[39m):\n\u001b[1;32m   1393\u001b[0m     delimiter \u001b[38;5;241m=\u001b[39m delimiter\u001b[38;5;241m.\u001b[39mdecode(\u001b[38;5;124m'\u001b[39m\u001b[38;5;124mlatin1\u001b[39m\u001b[38;5;124m'\u001b[39m)\n\u001b[0;32m-> 1395\u001b[0m arr \u001b[38;5;241m=\u001b[39m \u001b[43m_read\u001b[49m\u001b[43m(\u001b[49m\u001b[43mfname\u001b[49m\u001b[43m,\u001b[49m\u001b[43m \u001b[49m\u001b[43mdtype\u001b[49m\u001b[38;5;241;43m=\u001b[39;49m\u001b[43mdtype\u001b[49m\u001b[43m,\u001b[49m\u001b[43m \u001b[49m\u001b[43mcomment\u001b[49m\u001b[38;5;241;43m=\u001b[39;49m\u001b[43mcomment\u001b[49m\u001b[43m,\u001b[49m\u001b[43m \u001b[49m\u001b[43mdelimiter\u001b[49m\u001b[38;5;241;43m=\u001b[39;49m\u001b[43mdelimiter\u001b[49m\u001b[43m,\u001b[49m\n\u001b[1;32m   1396\u001b[0m \u001b[43m            \u001b[49m\u001b[43mconverters\u001b[49m\u001b[38;5;241;43m=\u001b[39;49m\u001b[43mconverters\u001b[49m\u001b[43m,\u001b[49m\u001b[43m \u001b[49m\u001b[43mskiplines\u001b[49m\u001b[38;5;241;43m=\u001b[39;49m\u001b[43mskiprows\u001b[49m\u001b[43m,\u001b[49m\u001b[43m \u001b[49m\u001b[43musecols\u001b[49m\u001b[38;5;241;43m=\u001b[39;49m\u001b[43musecols\u001b[49m\u001b[43m,\u001b[49m\n\u001b[1;32m   1397\u001b[0m \u001b[43m            \u001b[49m\u001b[43munpack\u001b[49m\u001b[38;5;241;43m=\u001b[39;49m\u001b[43munpack\u001b[49m\u001b[43m,\u001b[49m\u001b[43m \u001b[49m\u001b[43mndmin\u001b[49m\u001b[38;5;241;43m=\u001b[39;49m\u001b[43mndmin\u001b[49m\u001b[43m,\u001b[49m\u001b[43m \u001b[49m\u001b[43mencoding\u001b[49m\u001b[38;5;241;43m=\u001b[39;49m\u001b[43mencoding\u001b[49m\u001b[43m,\u001b[49m\n\u001b[1;32m   1398\u001b[0m \u001b[43m            \u001b[49m\u001b[43mmax_rows\u001b[49m\u001b[38;5;241;43m=\u001b[39;49m\u001b[43mmax_rows\u001b[49m\u001b[43m,\u001b[49m\u001b[43m \u001b[49m\u001b[43mquote\u001b[49m\u001b[38;5;241;43m=\u001b[39;49m\u001b[43mquotechar\u001b[49m\u001b[43m)\u001b[49m\n\u001b[1;32m   1400\u001b[0m \u001b[38;5;28;01mreturn\u001b[39;00m arr\n",
      "File \u001b[0;32m~/Work/Education Workshops/QC-Workshop-1-2024/env/lib/python3.12/site-packages/numpy/lib/_npyio_impl.py:1022\u001b[0m, in \u001b[0;36m_read\u001b[0;34m(fname, delimiter, comment, quote, imaginary_unit, usecols, skiplines, max_rows, converters, ndmin, unpack, dtype, encoding)\u001b[0m\n\u001b[1;32m   1020\u001b[0m     fname \u001b[38;5;241m=\u001b[39m os\u001b[38;5;241m.\u001b[39mfspath(fname)\n\u001b[1;32m   1021\u001b[0m \u001b[38;5;28;01mif\u001b[39;00m \u001b[38;5;28misinstance\u001b[39m(fname, \u001b[38;5;28mstr\u001b[39m):\n\u001b[0;32m-> 1022\u001b[0m     fh \u001b[38;5;241m=\u001b[39m \u001b[43mnp\u001b[49m\u001b[38;5;241;43m.\u001b[39;49m\u001b[43mlib\u001b[49m\u001b[38;5;241;43m.\u001b[39;49m\u001b[43m_datasource\u001b[49m\u001b[38;5;241;43m.\u001b[39;49m\u001b[43mopen\u001b[49m\u001b[43m(\u001b[49m\u001b[43mfname\u001b[49m\u001b[43m,\u001b[49m\u001b[43m \u001b[49m\u001b[38;5;124;43m'\u001b[39;49m\u001b[38;5;124;43mrt\u001b[39;49m\u001b[38;5;124;43m'\u001b[39;49m\u001b[43m,\u001b[49m\u001b[43m \u001b[49m\u001b[43mencoding\u001b[49m\u001b[38;5;241;43m=\u001b[39;49m\u001b[43mencoding\u001b[49m\u001b[43m)\u001b[49m\n\u001b[1;32m   1023\u001b[0m     \u001b[38;5;28;01mif\u001b[39;00m encoding \u001b[38;5;129;01mis\u001b[39;00m \u001b[38;5;28;01mNone\u001b[39;00m:\n\u001b[1;32m   1024\u001b[0m         encoding \u001b[38;5;241m=\u001b[39m \u001b[38;5;28mgetattr\u001b[39m(fh, \u001b[38;5;124m'\u001b[39m\u001b[38;5;124mencoding\u001b[39m\u001b[38;5;124m'\u001b[39m, \u001b[38;5;124m'\u001b[39m\u001b[38;5;124mlatin1\u001b[39m\u001b[38;5;124m'\u001b[39m)\n",
      "File \u001b[0;32m~/Work/Education Workshops/QC-Workshop-1-2024/env/lib/python3.12/site-packages/numpy/lib/_datasource.py:192\u001b[0m, in \u001b[0;36mopen\u001b[0;34m(path, mode, destpath, encoding, newline)\u001b[0m\n\u001b[1;32m    155\u001b[0m \u001b[38;5;250m\u001b[39m\u001b[38;5;124;03m\"\"\"\u001b[39;00m\n\u001b[1;32m    156\u001b[0m \u001b[38;5;124;03mOpen `path` with `mode` and return the file object.\u001b[39;00m\n\u001b[1;32m    157\u001b[0m \n\u001b[0;32m   (...)\u001b[0m\n\u001b[1;32m    188\u001b[0m \n\u001b[1;32m    189\u001b[0m \u001b[38;5;124;03m\"\"\"\u001b[39;00m\n\u001b[1;32m    191\u001b[0m ds \u001b[38;5;241m=\u001b[39m DataSource(destpath)\n\u001b[0;32m--> 192\u001b[0m \u001b[38;5;28;01mreturn\u001b[39;00m \u001b[43mds\u001b[49m\u001b[38;5;241;43m.\u001b[39;49m\u001b[43mopen\u001b[49m\u001b[43m(\u001b[49m\u001b[43mpath\u001b[49m\u001b[43m,\u001b[49m\u001b[43m \u001b[49m\u001b[43mmode\u001b[49m\u001b[43m,\u001b[49m\u001b[43m \u001b[49m\u001b[43mencoding\u001b[49m\u001b[38;5;241;43m=\u001b[39;49m\u001b[43mencoding\u001b[49m\u001b[43m,\u001b[49m\u001b[43m \u001b[49m\u001b[43mnewline\u001b[49m\u001b[38;5;241;43m=\u001b[39;49m\u001b[43mnewline\u001b[49m\u001b[43m)\u001b[49m\n",
      "File \u001b[0;32m~/Work/Education Workshops/QC-Workshop-1-2024/env/lib/python3.12/site-packages/numpy/lib/_datasource.py:529\u001b[0m, in \u001b[0;36mDataSource.open\u001b[0;34m(self, path, mode, encoding, newline)\u001b[0m\n\u001b[1;32m    526\u001b[0m     \u001b[38;5;28;01mreturn\u001b[39;00m _file_openers[ext](found, mode\u001b[38;5;241m=\u001b[39mmode,\n\u001b[1;32m    527\u001b[0m                               encoding\u001b[38;5;241m=\u001b[39mencoding, newline\u001b[38;5;241m=\u001b[39mnewline)\n\u001b[1;32m    528\u001b[0m \u001b[38;5;28;01melse\u001b[39;00m:\n\u001b[0;32m--> 529\u001b[0m     \u001b[38;5;28;01mraise\u001b[39;00m \u001b[38;5;167;01mFileNotFoundError\u001b[39;00m(\u001b[38;5;124mf\u001b[39m\u001b[38;5;124m\"\u001b[39m\u001b[38;5;132;01m{\u001b[39;00mpath\u001b[38;5;132;01m}\u001b[39;00m\u001b[38;5;124m not found.\u001b[39m\u001b[38;5;124m\"\u001b[39m)\n",
      "\u001b[0;31mFileNotFoundError\u001b[0m: ../QUBO-matrix-construction/full-sample/QUBO.csv not found."
     ]
    }
   ],
   "source": [
    "#folder = 'test_QUBO'\n",
    "#i_to_col = 'index_to_column_mapping'\n",
    "#folder = '1M-sample'\n",
    "\n",
    "folder = 'full-sample'\n",
    "i_to_col = 'column_order'\n",
    "\n",
    "# has to be float32, float16 does not work with\n",
    "Q = np.loadtxt(f'../QUBO-matrix-construction/{folder}/QUBO.csv',dtype=np.float32,delimiter=',')\n",
    "feature_names = np.loadtxt(f'../QUBO-matrix-construction/{folder}/{i_to_col}.csv', dtype=str)\n",
    "\n"
   ]
  },
  {
   "cell_type": "code",
   "execution_count": 6,
   "metadata": {},
   "outputs": [],
   "source": [
    "#shortlist_feature = np.loadtxt(f'../QUBO-matrix-construction/{folder}/shortlist-features.csv', dtype=str)\n",
    "#filter_features = np.loadtxt(f'../QUBO-matrix-construction/{folder}/unwanted-variables.csv', dtype=str)"
   ]
  },
  {
   "cell_type": "code",
   "execution_count": 7,
   "metadata": {},
   "outputs": [],
   "source": [
    "#N=np.where(np.isin(feature_names, filter_features))\n",
    "#Q_filtered, filtered_feature_names = remove_features(Q, feature_names, N)"
   ]
  },
  {
   "cell_type": "code",
   "execution_count": 8,
   "metadata": {},
   "outputs": [],
   "source": [
    "#N=np.where(~np.isin(feature_names, shortlist_feature))\n",
    "#Q_shortlist, feature_names_short = remove_features(Q, feature_names, N)"
   ]
  },
  {
   "cell_type": "code",
   "execution_count": 9,
   "metadata": {},
   "outputs": [],
   "source": [
    "#np.savetxt(f'../QUBO-matrix-construction/{folder}/QUBO_filtered/QUBO.csv', Q_filtered, delimiter=',')\n",
    "#np.savetxt(f'../QUBO-matrix-construction/{folder}/QUBO_filtered/column_order.csv', filtered_feature_names, delimiter=',', fmt='%s')\n",
    "\n",
    "#np.savetxt(f'../QUBO-matrix-construction/{folder}/QUBO_shortlist/QUBO.csv', Q_shortlist, delimiter=',')\n",
    "#np.savetxt(f'../QUBO-matrix-construction/{folder}/QUBO_shortlist/column_order.csv', feature_names_short, delimiter=',', fmt='%s')"
   ]
  },
  {
   "cell_type": "code",
   "execution_count": 7,
   "metadata": {},
   "outputs": [],
   "source": [
    "Q_filtered= np.loadtxt(f'../QUBO-matrix-construction/{folder}/QUBO_filtered/QUBO.csv', dtype=np.float32, delimiter=',')\n",
    "filtered_feature_names= np.loadtxt(f'../QUBO-matrix-construction/{folder}/QUBO_filtered/column_order.csv', dtype=str)\n",
    "\n",
    "Q_shortlist= np.loadtxt(f'../QUBO-matrix-construction/{folder}/QUBO_shortlist/QUBO.csv', dtype=np.float32, delimiter=',')\n",
    "shortlist_feature_names= np.loadtxt(f'../QUBO-matrix-construction/{folder}/QUBO_shortlist/column_order.csv', dtype=str)"
   ]
  },
  {
   "attachments": {},
   "cell_type": "markdown",
   "metadata": {},
   "source": [
    "### 1.2 Solve with simulated annealing"
   ]
  },
  {
   "cell_type": "code",
   "execution_count": 8,
   "metadata": {},
   "outputs": [],
   "source": [
    "def process_results(feature_names, save_dir, Samples, alpha, plot_title):\n",
    "    \n",
    "    save_dir = Path(save_dir).expanduser()\n",
    "    save_dir.mkdir(parents=True, exist_ok=True)\n",
    "    \n",
    "    plot_dir = Path(f'{save_dir}/plots').expanduser()\n",
    "    plot_dir.mkdir(parents=True, exist_ok=True)\n",
    "\n",
    "    plot_enumerate(Samples, plot_dir,alpha, title=f'{plot_title} annealing, alpha = {alpha}')\n",
    "    plot_energies(Samples, plot_dir, alpha, title=f'{plot_title} annealing, alpha = {alpha}')\n",
    "    \n",
    "    min_energy = min(Samples.data_vectors['energy'])\n",
    "    data = Samples.aggregate().lowest()\n",
    "    selection = list(data.record[0][0])\n",
    "    n_selected =selection.count(1)\n",
    "    print(f'Selected {n_selected} model variables')\n",
    "\n",
    "    selected_indx = np.nonzero(selection)\n",
    "    variable_selection = feature_names[selected_indx].tolist()\n",
    "\n",
    "    for i, item in enumerate(variable_selection):\n",
    "        variable_selection[i] = variable_selection[i].removesuffix('_transform_woe')\n",
    "    \n",
    "    result = {'selected_variables': variable_selection, 'minimum_energy': min_energy}\n",
    "    save_path = str(f'{save_dir}/result_alpha{alpha}.json')\n",
    "    \n",
    "    with open(save_path, \"w\") as f:\n",
    "        json.dump(result, f)\n",
    "\n",
    "def run_sim_experiment(Q, alpha, sampler, feature_names, num_reads, save_dir):\n",
    "    Q_init = Q.copy()\n",
    "    #Q_init = upper_tri_qubo(Q_init)\n",
    "    Q_w = set_qubo_weights(Q_init, alpha)\n",
    "    model = dimod.BinaryQuadraticModel.from_qubo(Q_w)\n",
    "    simAnnSamples = sampler.sample(model,num_reads= num_reads)\n",
    "\n",
    "\n",
    "    process_results(feature_names, save_dir, simAnnSamples, alpha, plot_title='Simulated')\n"
   ]
  },
  {
   "cell_type": "code",
   "execution_count": 9,
   "metadata": {},
   "outputs": [],
   "source": [
    "def run_dwave_experiment(Q, alpha, DWaveSampler, feature_names, num_reads, chain_str, save_dir):\n",
    "    Q_init = Q.copy()\n",
    "    #Q_init = upper_tri_qubo(Q_init)\n",
    "    Q_w = set_qubo_weights(Q_init, alpha)\n",
    "    model = dimod.BinaryQuadraticModel.from_qubo(Q_w)\n",
    "    \n",
    "    DWaveSamples = DWaveSampler.sample(bqm=model, num_reads=num_reads,chain_strength= chain_str, return_embedding=True)\n",
    "    process_results(feature_names, save_dir, DWaveSamples, alpha, plot_title='DWave')\n",
    "    \n",
    "    return DWaveSamples"
   ]
  },
  {
   "cell_type": "code",
   "execution_count": 10,
   "metadata": {},
   "outputs": [],
   "source": [
    "Q_names = ['filtered','shortlist']\n",
    "Q_list = [Q_filtered, Q_shortlist]\n",
    "variable_names_list = [filtered_feature_names,shortlist_feature_names]\n",
    "alpha = [0.5, 0.7, 0.8, 0.9, 0.95]"
   ]
  },
  {
   "cell_type": "code",
   "execution_count": 14,
   "metadata": {},
   "outputs": [
    {
     "name": "stdout",
     "output_type": "stream",
     "text": [
      "minimum energy: -0.019864167785272002\n",
      "Selected 2 model variables\n",
      "minimum energy: -0.04994851641822606\n",
      "Selected 4 model variables\n",
      "minimum energy: -0.09422869308036752\n",
      "Selected 4 model variables\n",
      "minimum energy: -0.2747116865066346\n",
      "Selected 6 model variables\n",
      "minimum energy: -0.7641047357756179\n",
      "Selected 9 model variables\n",
      "minimum energy: -0.062164757400751114\n",
      "Selected 2 model variables\n",
      "minimum energy: -0.15009749436285347\n",
      "Selected 3 model variables\n",
      "minimum energy: -0.2756390266586095\n",
      "Selected 4 model variables\n",
      "minimum energy: -0.7063619321561418\n",
      "Selected 5 model variables\n",
      "minimum energy: -1.638041772035649\n",
      "Selected 8 model variables\n"
     ]
    }
   ],
   "source": [
    "simAnnSampler = dwave.samplers.SimulatedAnnealingSampler()\n",
    "for Q, var_names, Q_name in zip(Q_list, variable_names_list, Q_names):\n",
    "    for a in alpha:\n",
    "        run_sim_experiment(Q, a,simAnnSampler, var_names, num_reads=100000, save_dir=f'results_{Q_name}_simulatedAnnealing')"
   ]
  },
  {
   "cell_type": "code",
   "execution_count": null,
   "metadata": {},
   "outputs": [],
   "source": [
    "# RandomSampler = dwave.samplers.RandomSampler()\n",
    "# simAnnSamples = RandomSampler.sample(model,time_limit=60, max_num_samples=10000)"
   ]
  },
  {
   "attachments": {},
   "cell_type": "markdown",
   "metadata": {},
   "source": [
    "### Run on DWave Hardware:\n"
   ]
  },
  {
   "cell_type": "code",
   "execution_count": null,
   "metadata": {},
   "outputs": [],
   "source": [
    "# run 'dwave setup' beforehand on terminal"
   ]
  },
  {
   "cell_type": "code",
   "execution_count": null,
   "metadata": {},
   "outputs": [],
   "source": [
    "!dwave ping"
   ]
  },
  {
   "cell_type": "code",
   "execution_count": 17,
   "metadata": {},
   "outputs": [],
   "source": [
    "from dwave.system import (DWaveSampler, EmbeddingComposite, FixedEmbeddingComposite, LazyFixedEmbeddingComposite, DWaveCliqueSampler)\n",
    "from pprint import pprint\n",
    "import dwave_networkx as dnx\n",
    "\n"
   ]
  },
  {
   "cell_type": "code",
   "execution_count": null,
   "metadata": {},
   "outputs": [],
   "source": [
    "qpu = DWaveSampler()\n",
    "qpu_edges = qpu.edgelist\n",
    "qpu_nodes = qpu.nodelist\n",
    "# pprint(dir(qpu))\n",
    "if qpu.solver.id == \"Advantage_system5.3\":\n",
    "    print(qpu.solver.id)\n",
    "    X = dnx.pegasus_graph(16, node_list=qpu_nodes, edge_list=qpu_edges)\n",
    "    dnx.draw_pegasus(X, node_size=1, width=1, )\n",
    "    print('Number of qubits=', len(qpu_nodes))\n",
    "    print('Number of couplers=', len(qpu_edges))"
   ]
  },
  {
   "cell_type": "code",
   "execution_count": 18,
   "metadata": {},
   "outputs": [],
   "source": [
    "import dwave.inspector"
   ]
  },
  {
   "cell_type": "code",
   "execution_count": null,
   "metadata": {},
   "outputs": [],
   "source": [
    "\n",
    "DwaveSampler = LazyFixedEmbeddingComposite(DWaveSampler())\n"
   ]
  },
  {
   "cell_type": "code",
   "execution_count": 19,
   "metadata": {},
   "outputs": [],
   "source": [
    "DwaveSampler = DWaveCliqueSampler() "
   ]
  },
  {
   "cell_type": "code",
   "execution_count": null,
   "metadata": {},
   "outputs": [],
   "source": [
    "DwaveSampler.properties"
   ]
  },
  {
   "cell_type": "code",
   "execution_count": null,
   "metadata": {},
   "outputs": [],
   "source": [
    "# tried zero qubit init /w various annealing schedules, did not work well. \n",
    "# Problem is the max chain length of the problem which is 14 when using CliqueSampler which suits well for this kind of dense QUBO matrix.\n",
    "# Chain length under 7 is required for optimal performance.\n",
    "\n",
    "init ={i:0 for i in range(0,135)}"
   ]
  },
  {
   "cell_type": "code",
   "execution_count": null,
   "metadata": {},
   "outputs": [],
   "source": [
    "#schedule = [[0.0, 1.0], [25.0, 0.5], [50.0, 0.5], [60, 1.0]]\n",
    "#schedule=[[0.0,1.0],[12.0,0.6],[12.8,1.0]]\n",
    "#schedule=[[0.0, 1.0], [10.0, 0.4], [20.0, 0.4], [21.2, 1.0]]\n",
    "# initial_state=init, anneal_schedule= schedule, "
   ]
  },
  {
   "cell_type": "code",
   "execution_count": 20,
   "metadata": {},
   "outputs": [
    {
     "name": "stdout",
     "output_type": "stream",
     "text": [
      "minimum energy: -0.04923052713274956\n",
      "Selected 2 model variables\n",
      "minimum energy: -0.1416822886094451\n",
      "Selected 3 model variables\n",
      "minimum energy: -0.2756390266586095\n",
      "Selected 4 model variables\n",
      "minimum energy: -0.7063619321561418\n",
      "Selected 5 model variables\n",
      "minimum energy: -1.638041772035649\n",
      "Selected 8 model variables\n"
     ]
    }
   ],
   "source": [
    "alpha = [0.5, 0.7, 0.8, 0.9, 0.95]\n",
    "#for Q, var_names, Q_name in zip(Q_list, variable_names_list, Q_names,):\n",
    "Q_name = \"shortlist\"\n",
    "for a in alpha:\n",
    "    sampleset= run_dwave_experiment(Q_shortlist, a,DwaveSampler, shortlist_feature_names, num_reads=1000, chain_str=0.2, save_dir=f'results_{Q_name}_DWaveAnnealing')"
   ]
  },
  {
   "cell_type": "code",
   "execution_count": null,
   "metadata": {},
   "outputs": [],
   "source": [
    "dwave.inspector.show(sampleset)"
   ]
  },
  {
   "cell_type": "code",
   "execution_count": null,
   "metadata": {},
   "outputs": [],
   "source": [
    "num_samples = 1000\n",
    "print(\"Percentage of samples with >10% breaks is {} and >0 is {}.\".format(\n",
    "      np.count_nonzero(sampleset.record.chain_break_fraction > 0.10)/num_samples*100,\n",
    "      np.count_nonzero(sampleset.record.chain_break_fraction > 0.10)/num_samples*100))"
   ]
  },
  {
   "cell_type": "code",
   "execution_count": null,
   "metadata": {},
   "outputs": [],
   "source": [
    "sampleset.record.chain_break_fraction"
   ]
  },
  {
   "cell_type": "code",
   "execution_count": null,
   "metadata": {},
   "outputs": [],
   "source": [
    "chains = sampleset.info[\"embedding_context\"][\"embedding\"].values()  \n",
    "print(max(len(chain) for chain in chains))"
   ]
  },
  {
   "cell_type": "code",
   "execution_count": 17,
   "metadata": {},
   "outputs": [],
   "source": [
    "alpha = 0.5\n",
    "Q_init = Q.copy()\n",
    "#Q_init = upper_tri_qubo(Q_init)\n",
    "Q_w = set_qubo_weights(Q_init, alpha)\n",
    "model = dimod.BinaryQuadraticModel.from_qubo(Q_w)\n",
    "sas= dwave.samplers.SimulatedAnnealingSampler()\n",
    "simAnnSamples = sas.sample(model,num_reads= 100)"
   ]
  },
  {
   "cell_type": "code",
   "execution_count": 18,
   "metadata": {},
   "outputs": [
    {
     "name": "stdout",
     "output_type": "stream",
     "text": [
      " 8.30928972618654\n"
     ]
    }
   ],
   "source": [
    "n = 100\n",
    "t_sim= timeit.timeit(lambda:sas.sample(model,num_reads= 100), number=n) /n\n",
    "t_dwave = 0.029911\n",
    "print(f\" {t_sim/t_dwave}\")"
   ]
  },
  {
   "cell_type": "code",
   "execution_count": 20,
   "metadata": {},
   "outputs": [
    {
     "data": {
      "text/plain": [
       "0.2485391649999656"
      ]
     },
     "execution_count": 20,
     "metadata": {},
     "output_type": "execute_result"
    }
   ],
   "source": [
    "t_sim"
   ]
  },
  {
   "cell_type": "code",
   "execution_count": 21,
   "metadata": {},
   "outputs": [],
   "source": [
    "t_sqa = 0.003"
   ]
  },
  {
   "cell_type": "code",
   "execution_count": 22,
   "metadata": {},
   "outputs": [
    {
     "name": "stdout",
     "output_type": "stream",
     "text": [
      " 3.000000e+04\n"
     ]
    }
   ],
   "source": [
    "t_dwave_annealing =1e-7\n",
    "print(f\" {t_sqa/t_dwave_annealing:e}\")"
   ]
  },
  {
   "cell_type": "code",
   "execution_count": 23,
   "metadata": {},
   "outputs": [
    {
     "data": {
      "text/plain": [
       "33.43251646551436"
      ]
     },
     "execution_count": 23,
     "metadata": {},
     "output_type": "execute_result"
    }
   ],
   "source": [
    "1/ 0.029911"
   ]
  },
  {
   "cell_type": "code",
   "execution_count": null,
   "metadata": {},
   "outputs": [],
   "source": []
  }
 ],
 "metadata": {
  "kernelspec": {
   "display_name": "env",
   "language": "python",
   "name": "python3"
  },
  "language_info": {
   "codemirror_mode": {
    "name": "ipython",
    "version": 3
   },
   "file_extension": ".py",
   "mimetype": "text/x-python",
   "name": "python",
   "nbconvert_exporter": "python",
   "pygments_lexer": "ipython3",
   "version": "3.12.2"
  },
  "orig_nbformat": 4
 },
 "nbformat": 4,
 "nbformat_minor": 2
}
