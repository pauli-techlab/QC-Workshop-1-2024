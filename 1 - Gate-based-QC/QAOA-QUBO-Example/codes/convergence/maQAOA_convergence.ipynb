{
 "cells": [
  {
   "cell_type": "markdown",
   "metadata": {},
   "source": [
    "## Solving quadratic unconstrained binary optimization (QUBO) problems with Multi-angle Quantum Approximate Optimization Algorithm (ma-QAOA)"
   ]
  },
  {
   "cell_type": "markdown",
   "metadata": {},
   "source": [
    "(Optimization between every layer)"
   ]
  },
  {
   "cell_type": "markdown",
   "metadata": {},
   "source": [
    "The QAOA circuit consists of a cost Hamiltonian and a mixer Hamiltonian. \n",
    "\n",
    "The cost Hamiltonian defines our problem and the mixer Hamiltonian can be thought as a function that allows us to explore different solutions to the problem. \n",
    "\n",
    "The variational parameters for the cost and mixer Hamiltonians are optimized using a classical computer. "
   ]
  },
  {
   "cell_type": "markdown",
   "metadata": {},
   "source": [
    "In this code, we convert the QUBO matrix to an Ising Hamiltonian."
   ]
  },
  {
   "cell_type": "code",
   "execution_count": 1,
   "metadata": {},
   "outputs": [],
   "source": [
    "from qiskit import QuantumCircuit, transpile\n",
    "from qiskit_aer import AerSimulator\n",
    "from qiskit.circuit import ParameterVector\n",
    "\n",
    "from qiskit.visualization import plot_distribution\n",
    "\n",
    "from scipy.optimize import minimize\n",
    "\n",
    "import numpy as np\n",
    "import matplotlib.pyplot as plt\n",
    "\n",
    "from gurobi_optimods.qubo import solve_qubo\n",
    "\n",
    "from qiskit.circuit.library import PauliEvolutionGate\n",
    "from qiskit.quantum_info import SparsePauliOp\n",
    "\n",
    "import csv\n",
    "import time\n",
    "import os"
   ]
  },
  {
   "cell_type": "code",
   "execution_count": 4,
   "metadata": {},
   "outputs": [],
   "source": [
    "# Define the backend used\n",
    "backend = AerSimulator(method='statevector')"
   ]
  },
  {
   "cell_type": "markdown",
   "metadata": {},
   "source": [
    "We want to convert the QUBO matrix to an Ising Hamiltonian and use the Ising Hamiltonian as a cost Hamiltonian. This is done by making a transformation to the QUBO matrix elements,\n",
    "$$x_i \\rightarrow \\frac{1-z_i}{2}.$$\n",
    "\n",
    "With the following function, we get the operators that we can apply to the quantum circuit."
   ]
  },
  {
   "cell_type": "code",
   "execution_count": 2,
   "metadata": {},
   "outputs": [],
   "source": [
    "def convert_qubo_to_ising(qubo):\n",
    "    # Number of qubits\n",
    "    n = len(qubo)\n",
    "\n",
    "    # Calculate the offset also, this is not important for the optimization\n",
    "    offset = 0\n",
    "    \n",
    "    operator_list = []\n",
    "\n",
    "    for i in range(n):\n",
    "        for j in range(i, n):\n",
    "            # Initialize the Pauli operator with all I's\n",
    "            pauli_operator = list(\"I\"*n)\n",
    "            \n",
    "            if i == j:\n",
    "                pauli_operator[i] = \"Z\"\n",
    "                ising_value = -(1/2)*np.sum(qubo[i])\n",
    "            else:\n",
    "                pauli_operator[i] = \"Z\"\n",
    "                pauli_operator[j] = \"Z\"\n",
    "                ising_value = (1/2)*qubo[i][j]\n",
    "\n",
    "            if not ising_value == 0:\n",
    "                ising_pauli_op = (''.join(pauli_operator), ising_value)\n",
    "                operator_list.append(ising_pauli_op)\n",
    "\n",
    "            offset += (1/2)*qubo[i][j]\n",
    "\n",
    "    operators = SparsePauliOp.from_list(operator_list)\n",
    "\n",
    "    return operators"
   ]
  },
  {
   "cell_type": "code",
   "execution_count": 3,
   "metadata": {},
   "outputs": [],
   "source": [
    "# Define the QUBO problem. Here we can change the variables \"features\", \"samples,\" \"alpha\" and \"seed\".\n",
    "# (Given by OP bank)\n",
    "def generate_problem(features, samples, alpha, seed):\n",
    "    rng = np.random.default_rng(seed=seed)\n",
    "    n_features = features\n",
    "    n_samples = samples\n",
    "\n",
    "    #X = np.ones(n_features) # Feature encoding binary vector \n",
    "    V = rng.integers(0,2, size=(n_samples,1)) # Example model target outputs \n",
    "    U = rng.random(size=(n_samples,n_features)) # Example model variables (1 feature per column --> (sample x feature) dimensional matrix)\n",
    "\n",
    "    p_Vj = np.corrcoef(U, V, rowvar=False)[1:,:1] # Correlation with model target outputs\n",
    "    p_ij = np.corrcoef(U,rowvar=False)            # Correlation between the features\n",
    "\n",
    "    p_Vj = np.abs(p_Vj)\n",
    "    p_ij = np.abs(p_ij)\n",
    "\n",
    "    np.fill_diagonal(p_ij,0)\n",
    "\n",
    "    s= n_features\n",
    "    n, m = np.shape(p_Vj)\n",
    "    matrix_pVj = np.zeros((s,s))\n",
    "    for i in range(s):\n",
    "        matrix_pVj[i,i] = p_Vj[i]\n",
    "    \n",
    "    # Weighting the independence vs prediction power of variables\n",
    "    alpha = alpha\n",
    "\n",
    "    Q = (alpha * p_ij) - (1-alpha)*matrix_pVj\n",
    "\n",
    "    return Q"
   ]
  },
  {
   "cell_type": "code",
   "execution_count": 5,
   "metadata": {},
   "outputs": [],
   "source": [
    "def initialize_circuit(n):\n",
    "    qc = QuantumCircuit(n)\n",
    "\n",
    "    # Usually in QAOA the quantum circuit is initialized with a Hadamard gate applied to every qubit\n",
    "    qc.h(range(n))\n",
    "\n",
    "    qc.barrier()\n",
    "\n",
    "    return qc"
   ]
  },
  {
   "cell_type": "code",
   "execution_count": 6,
   "metadata": {},
   "outputs": [],
   "source": [
    "def apply_cost_layer(qc, n, qubo, gamma):\n",
    "    i = 0\n",
    "    while i < len(gamma):\n",
    "        cost_layer = PauliEvolutionGate(qubo[i], gamma[i])\n",
    "        qc.append(cost_layer, range(n))\n",
    "        i += 1\n",
    "    \n",
    "    qc.barrier()"
   ]
  },
  {
   "cell_type": "markdown",
   "metadata": {},
   "source": [
    "The mixer Hamiltonian is the basic QAOA mixer:\n",
    "$$\\sum_i^n R_{X_i}(\\beta_p)$$"
   ]
  },
  {
   "cell_type": "code",
   "execution_count": 7,
   "metadata": {},
   "outputs": [],
   "source": [
    "def apply_mixer_layer(qc, n, beta):\n",
    "    # The normal QAOA mixer is a RX gate applied to every qubit\n",
    "    for i in range(n):\n",
    "        qc.rx(2*beta[i], i)\n",
    "    \n",
    "    qc.barrier()"
   ]
  },
  {
   "cell_type": "code",
   "execution_count": 8,
   "metadata": {},
   "outputs": [],
   "source": [
    "def apply_qaoa_layer(qc, n, n_gates_cost, qubo, parameters, layer):\n",
    "    i = 0\n",
    "    while i < n+n_gates_cost:\n",
    "        # Apply cost layer\n",
    "        apply_cost_layer(qc, n, qubo, parameters[((layer-1)*(n+n_gates_cost))+i:((layer-1)*(n+n_gates_cost))+i+n_gates_cost])\n",
    "        # Apply mixer layer\n",
    "        apply_mixer_layer(qc, n, parameters[((layer-1)*(n+n_gates_cost))+i+n_gates_cost:((layer-1)*(n+n_gates_cost))+i+n_gates_cost+n])\n",
    "\n",
    "        # New QAOA layer\n",
    "        i += n_gates_cost + n"
   ]
  },
  {
   "cell_type": "code",
   "execution_count": 9,
   "metadata": {},
   "outputs": [],
   "source": [
    "def initialize_parameters(n, n_gates_cost):\n",
    "    theta = []\n",
    "\n",
    "    for j in range(n_gates_cost):\n",
    "        # Initialize a parameter for the \"gamma\" variable\n",
    "        #initial_gamma = 2 * np.pi * np.random.rand(1)[0]\n",
    "        initial_gamma = 2 * np.pi\n",
    "        theta.append(initial_gamma)\n",
    "    for k in range(n):\n",
    "        # Initialize a parameter for the \"beta\" variable\n",
    "        #initial_beta = np.pi * np.random.rand(1)[0]\n",
    "        initial_beta = np.pi\n",
    "        theta.append(initial_beta)\n",
    "    \n",
    "    return theta"
   ]
  },
  {
   "cell_type": "code",
   "execution_count": 10,
   "metadata": {},
   "outputs": [],
   "source": [
    "def add_parameters(theta, n, n_gates_cost):\n",
    "    for j in range(n_gates_cost):\n",
    "        # Initialize a parameter for the \"gamma\" variable\n",
    "        gamma = 2 * np.pi * np.random.rand(1)[0]\n",
    "        theta = np.append(theta, float(0))\n",
    "        #theta = np.append(theta, gamma)\n",
    "    for k in range(n):\n",
    "        # Initialize a parameter for the \"beta\" variable\n",
    "        beta = 2 * np.pi * np.random.rand(1)[0]\n",
    "        theta = np.append(theta, float(0))\n",
    "        #theta = np.append(theta, beta)\n",
    "\n",
    "    return theta"
   ]
  },
  {
   "cell_type": "code",
   "execution_count": 11,
   "metadata": {},
   "outputs": [],
   "source": [
    "# Calculate the expectation value using the QUBO matrix. We are trying to minimize this expectation value.\n",
    "def calculate_expectation_value(theta, qc, qubo, parameters, exp_value_list, elapsed_time_quantum, shots=10000):\n",
    "    # Assign the gammas and the betas to the circuit\n",
    "    qc_assigned_parameters = qc.assign_parameters({parameters:theta})\n",
    "    # Transpile the circuit for the backend and measure the qubits\n",
    "    qc_transpiled = transpile(qc_assigned_parameters, backend)\n",
    "    qc_transpiled.measure_all()\n",
    "\n",
    "    start_time = time.time()\n",
    "\n",
    "    # Run the circuit on the backend\n",
    "    result = backend.run(qc_transpiled, shots=shots).result()\n",
    "\n",
    "    end_time = time.time()\n",
    "\n",
    "    elapsed_time_quantum.append(end_time - start_time)\n",
    "\n",
    "    # Save the counts to a variable\n",
    "    counts = result.get_counts()\n",
    "\n",
    "    exp_value = 0\n",
    "\n",
    "    for bitstring in counts.keys():\n",
    "        # Calculate the occurrence of a bitstring with respect to the number of shots\n",
    "        occurrence_bitstring = counts[bitstring] / shots\n",
    "\n",
    "        # Calculate the QUBO result of a bitstring\n",
    "        qubo_value = 0\n",
    "        for i in range(len(qubo)):\n",
    "            for j in range(len(qubo)):\n",
    "                if i == j:\n",
    "                    qubo_value += qubo[i][j]*int(bitstring[i])\n",
    "                else:\n",
    "                    qubo_value += qubo[i][j]*int(bitstring[i])*int(bitstring[j])\n",
    "\n",
    "        # Expectation values of all bitstrings are summed\n",
    "        exp_value += occurrence_bitstring * qubo_value\n",
    "    \n",
    "    exp_value_list.append(exp_value)\n",
    "    \n",
    "    return exp_value\n"
   ]
  },
  {
   "cell_type": "code",
   "execution_count": 12,
   "metadata": {},
   "outputs": [],
   "source": [
    "def optimize_parameters(qc, qubo, parameters, theta):\n",
    "    # Save the expectation values the optimization gives us so that we can visualize the optimization\n",
    "    exp_value_list = []\n",
    "\n",
    "    elapsed_time_quantum = []\n",
    "\n",
    "    # Here we can change the classical optimization method etc.\n",
    "    min_minimized_optimization = minimize(calculate_expectation_value, theta, method=\"Powell\", args=(qc, qubo, parameters, exp_value_list, elapsed_time_quantum))\n",
    "\n",
    "    elapsed_time_quantum_sum = np.sum(elapsed_time_quantum)\n",
    "\n",
    "    # Save the objective value the optimization finally gives us\n",
    "    minimum_objective_value = min_minimized_optimization.fun\n",
    "    min_exp_value_list = exp_value_list\n",
    "\n",
    "    return min_minimized_optimization.x, minimum_objective_value, min_exp_value_list, elapsed_time_quantum_sum"
   ]
  },
  {
   "cell_type": "code",
   "execution_count": 13,
   "metadata": {},
   "outputs": [],
   "source": [
    "def maqaoa(qubo):\n",
    "    if os.path.exists(\"data/maqaoa/ratios.txt\"):\n",
    "        os.remove(\"data/maqaoa/ratios.txt\")\n",
    "\n",
    "    # Classical solver\n",
    "    result = solve_qubo(qubo).objective_value\n",
    "\n",
    "    # Number of qubits = length of the QUBO matrix\n",
    "    n = len(qubo)\n",
    "\n",
    "    # Initialize circuit\n",
    "    qc = initialize_circuit(n)\n",
    "\n",
    "    # Convert the QUBO matrix to the Ising Hamiltonian\n",
    "    ising = convert_qubo_to_ising(qubo)\n",
    "\n",
    "    # Number of gates in a cost layer\n",
    "    n_gates_cost = len(ising)\n",
    "\n",
    "    # Number of gates per QAOA layer (cost + mixer)\n",
    "    n_gates_per_layer = len(ising) + n\n",
    "\n",
    "    # Initialize parameters\n",
    "    parameters = ParameterVector('theta', n_gates_per_layer)\n",
    "    theta = initialize_parameters(n, n_gates_cost)\n",
    "\n",
    "    p = 1\n",
    "\n",
    "    exp_value_comb = []\n",
    "    theta_comb = []\n",
    "    time_comb = []\n",
    "    time_quantum_comb = []\n",
    "    \n",
    "    while True:\n",
    "        start_time = time.time()\n",
    "\n",
    "        # Apply a QAOA layer\n",
    "        apply_qaoa_layer(qc, n, n_gates_cost, ising, parameters, p)\n",
    "\n",
    "        # Optimize the parameters\n",
    "        theta, minimum_objective_value, exp_value_list, elapsed_time_quantum_sum = optimize_parameters(qc, qubo, parameters, theta)\n",
    "\n",
    "        end_time = time.time()\n",
    "\n",
    "        elapsed_time = end_time - start_time\n",
    "\n",
    "        exp_value_comb.append(exp_value_list)\n",
    "        theta_comb.append(theta)\n",
    "        time_comb.append(elapsed_time)\n",
    "        time_quantum_comb.append(elapsed_time_quantum_sum)\n",
    "\n",
    "        print(f\"Layer {p}, approximation ratio: {minimum_objective_value/result}\")\n",
    "\n",
    "        with open('data/maqaoa/ratios.txt', 'a') as f:\n",
    "            f.write(f'{minimum_objective_value/result}\\n')\n",
    "\n",
    "        if minimum_objective_value/result >= 0.878:\n",
    "            return qc, theta_comb, minimum_objective_value, exp_value_comb, parameters, time_comb, time_quantum_comb\n",
    "        \n",
    "        p += 1\n",
    "\n",
    "        parameters.resize(n_gates_per_layer*p)\n",
    "        theta = add_parameters(theta, n, n_gates_cost)"
   ]
  },
  {
   "cell_type": "code",
   "execution_count": 14,
   "metadata": {},
   "outputs": [
    {
     "name": "stdout",
     "output_type": "stream",
     "text": [
      "New QUBO solution found with objective 0.0\n",
      "New QUBO solution found with objective -0.621740685886765\n",
      "New QUBO solution found with objective -0.9312720452297811\n"
     ]
    },
    {
     "name": "stderr",
     "output_type": "stream",
     "text": [
      "C:\\Users\\tpihkako19\\AppData\\Local\\Temp\\ipykernel_21708\\2802455376.py:24: DeprecationWarning: Conversion of an array with ndim > 0 to a scalar is deprecated, and will error in future. Ensure you extract a single element from your array before performing this operation. (Deprecated NumPy 1.25.)\n",
      "  matrix_pVj[i,i] = p_Vj[i]\n"
     ]
    },
    {
     "name": "stdout",
     "output_type": "stream",
     "text": [
      "Layer 1, approximation ratio: 0.9730784465025998\n"
     ]
    }
   ],
   "source": [
    "# Run the QAOA\n",
    "Q = generate_problem(3, 3, 0.2, 51)\n",
    "qc, theta_comb, minimum_objective_value, exp_value_comb, parameters, time_comb, time_quantum_comb = maqaoa(Q)"
   ]
  },
  {
   "cell_type": "code",
   "execution_count": 15,
   "metadata": {},
   "outputs": [],
   "source": [
    "with open('data/maqaoa/exp_values.txt', 'w') as f:\n",
    "    for i in range(len(exp_value_comb)):\n",
    "        csv.writer(f).writerow(exp_value_comb[i])\n",
    "\n",
    "with open('data/maqaoa/theta_values.txt', 'w') as f:\n",
    "    for i in range(len(theta_comb)):\n",
    "        csv.writer(f).writerow(theta_comb[i])\n",
    "\n",
    "with open('data/maqaoa/elapsed_times.txt', 'w') as f:\n",
    "    csv.writer(f).writerow(time_comb)\n",
    "\n",
    "with open('data/maqaoa/elapsed_times_quantum.txt', 'w') as f:\n",
    "    csv.writer(f).writerow(time_quantum_comb)"
   ]
  },
  {
   "cell_type": "code",
   "execution_count": 16,
   "metadata": {},
   "outputs": [
    {
     "data": {
      "image/png": "[encoded data removed]",
      "text/plain": [
       "<Figure size 1500x500 with 1 Axes>"
      ]
     },
     "execution_count": 16,
     "metadata": {},
     "output_type": "execute_result"
    }
   ],
   "source": [
    "qc_assigned_parameters = qc.assign_parameters({parameters:theta_comb[-1]})\n",
    "qc_transpiled = transpile(qc_assigned_parameters, backend=backend)\n",
    "qc_transpiled.measure_all()\n",
    "\n",
    "counts = backend.run(qc_transpiled, shots=50000).result().get_counts()\n",
    "\n",
    "plot_distribution(counts, figsize=(15, 5))"
   ]
  },
  {
   "cell_type": "code",
   "execution_count": 17,
   "metadata": {},
   "outputs": [
    {
     "name": "stdout",
     "output_type": "stream",
     "text": [
      "Highest possible solution: 011\n",
      "Result: -0.9312720452297811\n",
      "24985\n"
     ]
    },
    {
     "name": "stderr",
     "output_type": "stream",
     "text": [
      "C:\\Users\\tpihkako19\\AppData\\Local\\Temp\\ipykernel_21708\\3734348006.py:10: DeprecationWarning: The binary mode of fromstring is deprecated, as it behaves surprisingly on unicode inputs. Use frombuffer instead\n",
      "  X = np.fromstring(highest_possible_solution, np.int8) - 48\n"
     ]
    }
   ],
   "source": [
    "highest_possible_solution = 0\n",
    "max_count = 0\n",
    "for key, count in counts.items():\n",
    "    if count > max_count:\n",
    "        max_count = count\n",
    "        highest_possible_solution = key\n",
    "print(f'Highest possible solution: {highest_possible_solution}')\n",
    "\n",
    "# Convert string to array\n",
    "X = np.fromstring(highest_possible_solution, np.int8) - 48\n",
    "\n",
    "# Calculate the result using the highest possible solution\n",
    "E = X.T @ Q @ X\n",
    "\n",
    "print(f'Result: {E}')\n",
    "print(max_count)"
   ]
  },
  {
   "cell_type": "markdown",
   "metadata": {},
   "source": [
    "Solve using a classical solver"
   ]
  },
  {
   "cell_type": "code",
   "execution_count": 18,
   "metadata": {},
   "outputs": [
    {
     "name": "stdout",
     "output_type": "stream",
     "text": [
      "New QUBO solution found with objective 0.0\n",
      "New QUBO solution found with objective -0.621740685886765\n",
      "New QUBO solution found with objective -0.9312720452297811\n"
     ]
    }
   ],
   "source": [
    "result = solve_qubo(Q)"
   ]
  },
  {
   "cell_type": "markdown",
   "metadata": {},
   "source": [
    "Plot the optimizer performance"
   ]
  },
  {
   "cell_type": "code",
   "execution_count": 19,
   "metadata": {},
   "outputs": [
    {
     "data": {
      "image/png": "[encoded data removed]",
      "text/plain": [
       "<Figure size 640x480 with 1 Axes>"
      ]
     },
     "metadata": {},
     "output_type": "display_data"
    }
   ],
   "source": [
    "plt.xlabel(\"Iteration\")\n",
    "plt.ylabel(\"Expectation value\")\n",
    "plt.axhline(y=result.objective_value, color='orange')\n",
    "plt.plot(exp_value_comb[-1])\n",
    "plt.show()"
   ]
  },
  {
   "cell_type": "code",
   "execution_count": null,
   "metadata": {},
   "outputs": [],
   "source": []
  }
 ],
 "metadata": {
  "kernelspec": {
   "display_name": "python312venv",
   "language": "python",
   "name": "python312venv"
  },
  "language_info": {
   "codemirror_mode": {
    "name": "ipython",
    "version": 3
   },
   "file_extension": ".py",
   "mimetype": "text/x-python",
   "name": "python",
   "nbconvert_exporter": "python",
   "pygments_lexer": "ipython3",
   "version": "3.12.6"
  }
 },
 "nbformat": 4,
 "nbformat_minor": 2
}
