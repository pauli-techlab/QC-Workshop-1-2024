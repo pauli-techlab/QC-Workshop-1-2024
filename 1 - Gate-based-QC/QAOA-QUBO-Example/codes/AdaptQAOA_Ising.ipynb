{
 "cells": [
  {
   "cell_type": "markdown",
   "metadata": {},
   "source": [
    "## Solving quadratic unconstrained binary optimization (QUBO) problems with Adaptive Derivative Assembled Problem Tailored - Quantum Approximate Optimization Algorithm (ADAPT-QAOA)"
   ]
  },
  {
   "cell_type": "markdown",
   "metadata": {},
   "source": [
    "<img src=\"img/adaptqaoa.png\" width=\"50%\" />\n",
    "\n",
    "Picture copied from Liao, Y., Hsieh, M., & Ferrie, C. (2024). Quantum optimization for training quantum neural networks. Quantum Machine Intelligence, 6(1). https://doi.org/10.1007/s42484-024-00169-w"
   ]
  },
  {
   "cell_type": "markdown",
   "metadata": {},
   "source": [
    "ADAPT-QAOA mixer implementation follows this code https://github.com/frozenwolf64/Adapt-QAOA/"
   ]
  },
  {
   "cell_type": "markdown",
   "metadata": {},
   "source": [
    "The QAOA circuit consists of a cost Hamiltonian and a mixer Hamiltonian. \n",
    "\n",
    "The cost Hamiltonian defines our problem and the mixer Hamiltonian can be thought as a function that allows us to explore different solutions to the problem. \n",
    "\n",
    "The variational parameters for the cost and mixer Hamiltonians are optimized using a classical computer. "
   ]
  },
  {
   "cell_type": "markdown",
   "metadata": {},
   "source": [
    "In this code, we convert the QUBO matrix to an Ising Hamiltonian."
   ]
  },
  {
   "cell_type": "code",
   "execution_count": 55,
   "metadata": {},
   "outputs": [],
   "source": [
    "from qiskit import QuantumCircuit, transpile\n",
    "\n",
    "from qiskit.visualization import plot_distribution\n",
    "from qiskit.circuit import ParameterVector\n",
    "\n",
    "from qiskit_aer import AerSimulator\n",
    "\n",
    "from scipy.optimize import minimize\n",
    "\n",
    "import numpy as np\n",
    "import matplotlib.pyplot as plt\n",
    "\n",
    "from qiskit.quantum_info import SparsePauliOp, commutator\n",
    "\n",
    "from qiskit.primitives import StatevectorEstimator\n",
    "\n",
    "from qiskit.circuit.library import PauliEvolutionGate\n",
    "\n",
    "from gurobi_optimods.qubo import solve_qubo"
   ]
  },
  {
   "cell_type": "code",
   "execution_count": 56,
   "metadata": {},
   "outputs": [],
   "source": [
    "# Define the backend used\n",
    "backend = AerSimulator(method='statevector')\n",
    "estimator = StatevectorEstimator()"
   ]
  },
  {
   "cell_type": "markdown",
   "metadata": {},
   "source": [
    "We want to convert the QUBO matrix to an Ising Hamiltonian and use the Ising Hamiltonian as a cost Hamiltonian. This is done by making a transformation to the QUBO matrix elements,\n",
    "$$x_i \\rightarrow \\frac{1-z_i}{2}.$$\n",
    "\n",
    "With the following function, we get the operators that we can apply to the quantum circuit."
   ]
  },
  {
   "cell_type": "code",
   "execution_count": 57,
   "metadata": {},
   "outputs": [],
   "source": [
    "def convert_qubo_to_ising(qubo):\n",
    "    # Number of qubits\n",
    "    n = len(qubo)\n",
    "\n",
    "    # Calculate the offset also, this is not important for the optimization\n",
    "    offset = 0\n",
    "    \n",
    "    operator_list = []\n",
    "\n",
    "    for i in range(n):\n",
    "        for j in range(i, n):\n",
    "            # Initialize the Pauli operator with all I's\n",
    "            pauli_operator = list(\"I\"*n)\n",
    "            \n",
    "            if i == j:\n",
    "                pauli_operator[i] = \"Z\"\n",
    "                ising_value = -(1/2)*np.sum(qubo[i])\n",
    "            else:\n",
    "                pauli_operator[i] = \"Z\"\n",
    "                pauli_operator[j] = \"Z\"\n",
    "                ising_value = (1/2)*qubo[i][j]\n",
    "\n",
    "            if not ising_value == 0:\n",
    "                ising_pauli_op = (''.join(pauli_operator), ising_value)\n",
    "                operator_list.append(ising_pauli_op)\n",
    "\n",
    "            offset += (1/2)*qubo[i][j]\n",
    "\n",
    "    operators = SparsePauliOp.from_list(operator_list)\n",
    "\n",
    "    return operators"
   ]
  },
  {
   "cell_type": "code",
   "execution_count": 58,
   "metadata": {},
   "outputs": [],
   "source": [
    "# Define the QUBO problem. Here we can change the variables \"features\", \"samples,\" \"alpha\" and \"seed\".\n",
    "# (Given by OP bank)\n",
    "def generate_problem(features, samples, alpha, seed):\n",
    "    rng = np.random.default_rng(seed=seed)\n",
    "    n_features = features\n",
    "    n_samples = samples\n",
    "\n",
    "    #X = np.ones(n_features) # Feature encoding binary vector \n",
    "    V = rng.integers(0,2, size=(n_samples,1)) # Example model target outputs \n",
    "    U = rng.random(size=(n_samples,n_features)) # Example model variables (1 feature per column --> (sample x feature) dimensional matrix)\n",
    "\n",
    "    p_Vj = np.corrcoef(U, V, rowvar=False)[1:,:1] # Correlation with model target outputs\n",
    "    p_ij = np.corrcoef(U,rowvar=False)            # Correlation between the features\n",
    "\n",
    "    p_Vj = np.abs(p_Vj)\n",
    "    p_ij = np.abs(p_ij)\n",
    "\n",
    "    np.fill_diagonal(p_ij,0)\n",
    "\n",
    "    s= n_features\n",
    "    n, m = np.shape(p_Vj)\n",
    "    matrix_pVj = np.zeros((s,s))\n",
    "    for i in range(s):\n",
    "        matrix_pVj[i,i] = p_Vj[i]\n",
    "    \n",
    "    # Weighing the independence vs prediction power of variables\n",
    "    alpha = alpha\n",
    "\n",
    "    Q = (alpha * p_ij) - (1-alpha)*matrix_pVj\n",
    "\n",
    "    return Q"
   ]
  },
  {
   "cell_type": "markdown",
   "metadata": {},
   "source": [
    "Define the ADAPT-QAOA mixer pool"
   ]
  },
  {
   "cell_type": "code",
   "execution_count": 59,
   "metadata": {},
   "outputs": [],
   "source": [
    "def mixer_pool_single(qubits):\n",
    "    pool = []\n",
    "    qaoa_x = []\n",
    "    qaoa_y = []\n",
    "    \n",
    "    for i in range(qubits):\n",
    "        op = ''\n",
    "        for j in range(qubits):\n",
    "            if i!=j:\n",
    "                op = op + \"I\"\n",
    "            else:\n",
    "                op = op + 'X'\n",
    "        pool.append([op])\n",
    "        qaoa_x.append(op)\n",
    "    pool.append(qaoa_x)\n",
    "    \n",
    "    for i in range(qubits):\n",
    "        op = ''\n",
    "        for j in range(qubits):\n",
    "            if i!=j:\n",
    "                op = op + \"I\"\n",
    "            else:\n",
    "                op = op + 'Y'\n",
    "        pool.append([op])\n",
    "        qaoa_y.append(op)\n",
    "    pool.append(qaoa_y)\n",
    "        \n",
    "    pool_ops = []\n",
    "    \n",
    "    for ops in pool:\n",
    "        pool_ops2 = []\n",
    "        if len(ops) == 1:\n",
    "            op = ((''.join(ops[0]),1))\n",
    "            pool_ops.append(SparsePauliOp.from_list([op]))\n",
    "        else:\n",
    "            pool_ops2.append((''.join(ops[0]),1))\n",
    "            for i in range(1,len(ops)):\n",
    "                pool_ops2.append((''.join(ops[i]),1))\n",
    "            pool_ops.append(SparsePauliOp.from_list(pool_ops2))\n",
    "            \n",
    "    return pool_ops"
   ]
  },
  {
   "cell_type": "code",
   "execution_count": 60,
   "metadata": {},
   "outputs": [],
   "source": [
    "def mixer_pool_multi(qubits):\n",
    "    paulis = [\"X\",\"Y\",\"Z\"]\n",
    "    \n",
    "    pool = []\n",
    "    for i in range(qubits-1):\n",
    "        for j in range(i+1,qubits):\n",
    "            for pauli_op1 in paulis:\n",
    "                for pauli_op2 in paulis:\n",
    "                    op = 'I'*i + pauli_op1 + 'I'*(j-i-1) +pauli_op2 + 'I'*(qubits-j-1)\n",
    "                    pool.append(op)\n",
    "    \n",
    "    pool_op = []\n",
    "    for op in pool:\n",
    "        multiop = (''.join(op),1)\n",
    "        pool_op.append(SparsePauliOp.from_list([multiop]))\n",
    "                    \n",
    "    return pool_op"
   ]
  },
  {
   "cell_type": "code",
   "execution_count": 61,
   "metadata": {},
   "outputs": [],
   "source": [
    "def mixer_pool(qubits):\n",
    "    mixersingle = mixer_pool_single(qubits)\n",
    "    mixermulti = mixer_pool_multi(qubits)\n",
    "\n",
    "    mixer = mixersingle.copy()\n",
    "\n",
    "    for op in mixermulti:\n",
    "        mixer.append(op)\n",
    "    \n",
    "    return mixer"
   ]
  },
  {
   "cell_type": "code",
   "execution_count": 62,
   "metadata": {},
   "outputs": [],
   "source": [
    "def apply_cost_layer(qc, n, qubo, gamma): \n",
    "    cost_layer = PauliEvolutionGate(qubo, gamma)\n",
    "    qc.append(cost_layer, range(n))\n",
    "    \n",
    "    qc.barrier()"
   ]
  },
  {
   "cell_type": "code",
   "execution_count": 63,
   "metadata": {},
   "outputs": [],
   "source": [
    "def apply_mixer_layer(qc, max_mixer, beta, qubits):\n",
    "    evomixer = PauliEvolutionGate(max_mixer, beta)\n",
    "    qc.append(evomixer, range(qubits))\n",
    "\n",
    "    qc.barrier()"
   ]
  },
  {
   "cell_type": "code",
   "execution_count": 64,
   "metadata": {},
   "outputs": [],
   "source": [
    "#Function to initialize parameters for a QAOA layer\n",
    "def initialize_parameters(theta):\n",
    "    theta = list(theta)\n",
    "    \n",
    "    initial_gamma = 2 * np.pi\n",
    "    initial_beta = np.pi\n",
    "        \n",
    "    theta.append(initial_gamma)\n",
    "    theta.append(initial_beta)\n",
    "    \n",
    "    return theta"
   ]
  },
  {
   "cell_type": "code",
   "execution_count": 65,
   "metadata": {},
   "outputs": [],
   "source": [
    "# Calculate the expectation value using the QUBO matrix. We are trying to minimize this expectation value.\n",
    "def calculate_expectation_value(theta, qc, qubo, parameters, exp_value_list, shots=10000):\n",
    "    # Assign the gammas and the betas to the circuit\n",
    "    qc_assigned_parameters = qc.assign_parameters({parameters:theta})\n",
    "    # Transpile the circuit for the backend and measure the qubits\n",
    "    qc_assigned_parameters.measure_all()\n",
    "    qc_transpiled = transpile(qc_assigned_parameters, backend)\n",
    "\n",
    "    # Run the circuit on the backend\n",
    "    result = backend.run(qc_transpiled, shots=shots).result()\n",
    "\n",
    "    # Save the counts to a variable\n",
    "    counts = result.get_counts()\n",
    "\n",
    "    exp_value = 0\n",
    "\n",
    "    for bitstring in counts.keys():\n",
    "        # Calculate the occurrence of a bitstring with respect to the number of shots\n",
    "        occurrence_bitstring = counts[bitstring] / shots\n",
    "\n",
    "        # Calculate the QUBO result of a bitstring\n",
    "        qubo_value = 0\n",
    "        for i in range(len(qubo)):\n",
    "            for j in range(len(qubo)):\n",
    "                if i == j:\n",
    "                    qubo_value += qubo[i][j]*int(bitstring[i])\n",
    "                else:\n",
    "                    qubo_value += qubo[i][j]*int(bitstring[i])*int(bitstring[j])\n",
    "\n",
    "        # Expectation values of all bitstrings are summed\n",
    "        exp_value += occurrence_bitstring * qubo_value\n",
    "    \n",
    "    exp_value_list.append(exp_value)\n",
    "    \n",
    "    return exp_value\n"
   ]
  },
  {
   "cell_type": "code",
   "execution_count": 66,
   "metadata": {},
   "outputs": [],
   "source": [
    "def optimize_parameters(qc, qubo, parameters, theta):\n",
    "    # Save the expectation values the optimization gives us so that we can visualize the optimization\n",
    "    exp_value_list = []\n",
    "\n",
    "    # Here we can change the classical optimization method etc.\n",
    "    min_minimized_optimization = minimize(calculate_expectation_value, theta, method=\"Powell\", args=(qc, qubo, parameters, exp_value_list))\n",
    "\n",
    "    # Save the objective value the optimization finally gives us\n",
    "    minimum_objective_value = min_minimized_optimization.fun\n",
    "    min_exp_value_list = exp_value_list\n",
    "\n",
    "    return min_minimized_optimization.x, minimum_objective_value, min_exp_value_list"
   ]
  },
  {
   "cell_type": "code",
   "execution_count": 67,
   "metadata": {},
   "outputs": [],
   "source": [
    "def adapt_qaoa(Q):\n",
    "    # Classical solver\n",
    "    result = solve_qubo(Q).objective_value\n",
    "    \n",
    "    n = len(Q[0])\n",
    "\n",
    "    qc = QuantumCircuit(n)\n",
    "    qc.h(range(n))\n",
    "\n",
    "    qc.barrier()\n",
    "\n",
    "    p = 0 \n",
    "    theta = []\n",
    "    parameters = ParameterVector(\"theta\", 2)\n",
    "    \n",
    "    ising = convert_qubo_to_ising(Q)\n",
    "\n",
    "    gamma_0 = 0.01\n",
    "    applied_mixers = []\n",
    "\n",
    "    mixers = mixer_pool(n)\n",
    "\n",
    "    while True: \n",
    "        gradients = []\n",
    "\n",
    "        if len(theta)<2:\n",
    "            qc_gradient = qc.copy()\n",
    "        else:    \n",
    "            qc_gradient = qc.assign_parameters({parameters: theta})\n",
    "\n",
    "        apply_cost_layer(qc_gradient, n, ising, gamma_0)\n",
    "\n",
    "        comm = (-1j) * commutator(ising, mixers[0])\n",
    "        job = estimator.run([(qc_gradient, comm)])\n",
    "\n",
    "        pub_result = job.result()[0]\n",
    "\n",
    "        gradients.append(pub_result.data.evs)\n",
    "\n",
    "        exp = pub_result.data.evs\n",
    "        max_mixer = mixers[0]\n",
    "\n",
    "        for i in range(len(mixers)-1):\n",
    "            comm = (-1j) * commutator(ising, mixers[i+1])\n",
    "            #commop = SparsePauliOp.from_operator(comm)\n",
    "            job = estimator.run([(qc_gradient, comm)])\n",
    " \n",
    "            # Get results for the first (and only) PUB\n",
    "            pub_result = job.result()[0]\n",
    "\n",
    "            gradients.append(pub_result.data.evs)\n",
    "            if pub_result.data.evs > exp:\n",
    "                exp = pub_result.data.evs\n",
    "                max_mixer = mixers[i+1]\n",
    "        \n",
    "        print(f\"Layer {p}, mixer applied: {max_mixer}\")\n",
    "        \n",
    "        scaled_gradient_norm = np.linalg.norm(gradients)/len(mixers)\n",
    "\n",
    "        if p >= 1:\n",
    "            print(f\"Approximation ratio: {optimized_minimum/result}\")\n",
    "            if optimized_minimum/result >= 0.878:\n",
    "                return optimized_minimum, qc, parameters, theta, exp_value_list\n",
    "        \n",
    "        # Increase layer number\n",
    "        p += 1\n",
    "        parameters.resize(2*p)\n",
    "\n",
    "        theta = initialize_parameters(theta)\n",
    "        \n",
    "        # Save the applied mixers\n",
    "        applied_mixers.append(max_mixer)\n",
    "\n",
    "        apply_cost_layer(qc, n, ising, parameters[-2])\n",
    "        apply_mixer_layer(qc, max_mixer, parameters[-1], n)\n",
    "        \n",
    "        ## Optimize for the new layer\n",
    "        theta, optimized_minimum, exp_value_list = optimize_parameters(qc, Q, parameters, theta)"
   ]
  },
  {
   "cell_type": "code",
   "execution_count": 68,
   "metadata": {},
   "outputs": [
    {
     "name": "stdout",
     "output_type": "stream",
     "text": [
      "New QUBO solution found with objective 0.0\n",
      "New QUBO solution found with objective -0.6815816669124609\n"
     ]
    },
    {
     "name": "stderr",
     "output_type": "stream",
     "text": [
      "C:\\Users\\tpihkako19\\AppData\\Local\\Temp\\ipykernel_4852\\2962490866.py:24: DeprecationWarning: Conversion of an array with ndim > 0 to a scalar is deprecated, and will error in future. Ensure you extract a single element from your array before performing this operation. (Deprecated NumPy 1.25.)\n",
      "  matrix_pVj[i,i] = p_Vj[i]\n"
     ]
    },
    {
     "name": "stdout",
     "output_type": "stream",
     "text": [
      "Layer 0, used mixer: SparsePauliOp(['YIIII', 'IYIII', 'IIYII', 'IIIYI', 'IIIIY'],\n",
      "              coeffs=[1.+0.j, 1.+0.j, 1.+0.j, 1.+0.j, 1.+0.j])\n",
      "Layer 1, used mixer: SparsePauliOp(['XIIII', 'IXIII', 'IIXII', 'IIIXI', 'IIIIX'],\n",
      "              coeffs=[1.+0.j, 1.+0.j, 1.+0.j, 1.+0.j, 1.+0.j])\n",
      "Approximation ratio: 0.47983233034672673\n",
      "Layer 2, used mixer: SparsePauliOp(['YXIII'],\n",
      "              coeffs=[1.+0.j])\n",
      "Approximation ratio: 0.5968215547289247\n",
      "Layer 3, used mixer: SparsePauliOp(['ZYIII'],\n",
      "              coeffs=[1.+0.j])\n",
      "Approximation ratio: 0.6508563538057796\n",
      "Layer 4, used mixer: SparsePauliOp(['YZIII'],\n",
      "              coeffs=[1.+0.j])\n",
      "Approximation ratio: 0.9980874355209756\n"
     ]
    }
   ],
   "source": [
    "# Run the ADAPT-QAOA\n",
    "Q = generate_problem(5, 5, 0.2, 51)\n",
    "optimized_minimum, qc, parameters, theta, exp_value_list = adapt_qaoa(Q)"
   ]
  },
  {
   "cell_type": "code",
   "execution_count": 69,
   "metadata": {},
   "outputs": [
    {
     "data": {
      "image/png": "[encoded data removed]",
      "text/plain": [
       "<Figure size 1500x500 with 1 Axes>"
      ]
     },
     "execution_count": 69,
     "metadata": {},
     "output_type": "execute_result"
    }
   ],
   "source": [
    "qc_assigned_parameters = qc.assign_parameters({parameters:theta})\n",
    "qc_transpiled = transpile(qc_assigned_parameters, backend=backend)\n",
    "qc_transpiled.measure_all()\n",
    "\n",
    "counts = backend.run(qc_transpiled, shots=50000).result().get_counts()\n",
    "\n",
    "plot_distribution(counts, figsize=(15, 5))"
   ]
  },
  {
   "cell_type": "code",
   "execution_count": 70,
   "metadata": {},
   "outputs": [
    {
     "name": "stdout",
     "output_type": "stream",
     "text": [
      "Highest possible solution: 11000\n",
      "Result: -0.681581666912461\n",
      "49486\n",
      "15\n",
      "10000\n"
     ]
    },
    {
     "name": "stderr",
     "output_type": "stream",
     "text": [
      "C:\\Users\\tpihkako19\\AppData\\Local\\Temp\\ipykernel_4852\\1787368524.py:14: DeprecationWarning: The binary mode of fromstring is deprecated, as it behaves surprisingly on unicode inputs. Use frombuffer instead\n",
      "  X = np.fromstring(highest_possible_solution, np.int8) - 48\n"
     ]
    }
   ],
   "source": [
    "highest_possible_solution = 0\n",
    "max_count = 0\n",
    "second_highest = 0\n",
    "second_key = 0\n",
    "for key, count in counts.items():\n",
    "    if count > max_count:\n",
    "        second_key = highest_possible_solution\n",
    "        second_highest = max_count\n",
    "        max_count = count\n",
    "        highest_possible_solution = key\n",
    "print(f'Highest possible solution: {highest_possible_solution}')\n",
    "\n",
    "# Convert string to array\n",
    "X = np.fromstring(highest_possible_solution, np.int8) - 48\n",
    "\n",
    "# Calculate the result using the highest possible solution\n",
    "E = X.T @ Q @ X\n",
    "\n",
    "print(f'Result: {E}')\n",
    "print(max_count)\n",
    "print(second_highest)\n",
    "print(second_key)"
   ]
  },
  {
   "cell_type": "code",
   "execution_count": 71,
   "metadata": {},
   "outputs": [
    {
     "name": "stdout",
     "output_type": "stream",
     "text": [
      "New QUBO solution found with objective 0.0\n",
      "New QUBO solution found with objective -0.6815816669124609\n"
     ]
    }
   ],
   "source": [
    "result = solve_qubo(Q)"
   ]
  },
  {
   "cell_type": "markdown",
   "metadata": {},
   "source": [
    "Plot the optimizer performance"
   ]
  },
  {
   "cell_type": "code",
   "execution_count": 72,
   "metadata": {},
   "outputs": [
    {
     "data": {
      "image/png": "[encoded data removed]",
      "text/plain": [
       "<Figure size 640x480 with 1 Axes>"
      ]
     },
     "metadata": {},
     "output_type": "display_data"
    }
   ],
   "source": [
    "plt.title('Optimizer performance')\n",
    "plt.xlabel('Iteration')\n",
    "plt.ylabel('Expectation value')\n",
    "plt.axhline(y=result.objective_value, color='orange', label='Classical solver')\n",
    "plt.plot(exp_value_list, label='ADAPT-QAOA')\n",
    "plt.legend()\n",
    "plt.show()"
   ]
  },
  {
   "cell_type": "code",
   "execution_count": 73,
   "metadata": {},
   "outputs": [
    {
     "name": "stdout",
     "output_type": "stream",
     "text": [
      "Minimum objective value: -0.6802780980267699\n"
     ]
    }
   ],
   "source": [
    "print(f'Minimum objective value: {optimized_minimum}')"
   ]
  },
  {
   "cell_type": "code",
   "execution_count": null,
   "metadata": {},
   "outputs": [],
   "source": []
  }
 ],
 "metadata": {
  "kernelspec": {
   "display_name": "python312venv",
   "language": "python",
   "name": "python312venv"
  },
  "language_info": {
   "codemirror_mode": {
    "name": "ipython",
    "version": 3
   },
   "file_extension": ".py",
   "mimetype": "text/x-python",
   "name": "python",
   "nbconvert_exporter": "python",
   "pygments_lexer": "ipython3",
   "version": "3.12.6"
  }
 },
 "nbformat": 4,
 "nbformat_minor": 2
}
